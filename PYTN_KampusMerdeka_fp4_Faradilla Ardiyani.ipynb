{
 "cells": [
  {
   "cell_type": "markdown",
   "metadata": {},
   "source": [
    "<img src = \"https://global-uploads.webflow.com/5f0d53c042a9ed6288de7f8d/5f6337ae2cfaa10946ceeb06_Hacktiv8%20logo%20horizontal%2001%20black-p-500.png\" width = 400>"
   ]
  },
  {
   "cell_type": "markdown",
   "metadata": {},
   "source": [
    "---"
   ]
  },
  {
   "cell_type": "markdown",
   "metadata": {},
   "source": [
    "# Final Project 4"
   ]
  },
  {
   "cell_type": "markdown",
   "metadata": {},
   "source": [
    "## Perkenalan"
   ]
  },
  {
   "cell_type": "markdown",
   "metadata": {},
   "source": [
    "Faradilla Ardiyani | PYTN-KS02-005 | Studi Independen - Kampus Merdeka"
   ]
  },
  {
   "cell_type": "markdown",
   "metadata": {},
   "source": [
    "### Latar Belakang"
   ]
  },
  {
   "cell_type": "markdown",
   "metadata": {},
   "source": [
    "Gempa bumi merupakan salah satu bencana yang paling sering terjadi di Indonesia. Salah satu daerah di Indonesia yang rawan terjadi bencana gempa bumi adalah Pulau Sumatera. Sebagai upaya mitigasi bencana, perlu dilakukan upaya pengelompokan daerah rawan bencana gempa bumi, salah satu upaya yaitu melakukan clustering. Hal ini diharapkan mampu membantu pemerintah dalam upaya mitigasi bencana gempa yang terjadi."
   ]
  },
  {
   "cell_type": "markdown",
   "metadata": {},
   "source": [
    "### Dataset"
   ]
  },
  {
   "cell_type": "markdown",
   "metadata": {},
   "source": [
    "Dataset yang digunakan adalah data gempa bumi di Pulau Sumatera tahun 1973-2021 yang bersumber dari usgs (https://earthquake.usgs.gov/earthquakes/search/). \n",
    "\n",
    "Dataset ini berisi histori gempa bumi selama 48 tahun dari berbagai lokasi di Pulau Sumatera yang terdiri dari 895 baris dan 22 atribut."
   ]
  },
  {
   "cell_type": "markdown",
   "metadata": {},
   "source": [
    "### Objective yang ingin dicapai"
   ]
  },
  {
   "cell_type": "markdown",
   "metadata": {},
   "source": [
    "Objective yang ingin dicapai dalam analisis ini yaitu:\n",
    "\n",
    "- Dapat mengetahui jumlah kluster yang optimal untuk pengelompokan daerah rawan gempa bumi.\n",
    "- Dapat melakukan klusterisasi dengan baik.\n"
   ]
  },
  {
   "cell_type": "markdown",
   "metadata": {},
   "source": [
    "## Import Libraries"
   ]
  },
  {
   "cell_type": "markdown",
   "metadata": {},
   "source": [
    "Melakukan import libraries yang digunakan dalam project."
   ]
  },
  {
   "cell_type": "code",
   "execution_count": 1,
   "metadata": {},
   "outputs": [
    {
     "name": "stdout",
     "output_type": "stream",
     "text": [
      "Libraries sudah siap\n"
     ]
    }
   ],
   "source": [
    "%matplotlib inline\n",
    "import pandas as pd\n",
    "import numpy as np\n",
    "import matplotlib.pyplot as plt\n",
    "import seaborn as sns\n",
    "\n",
    "from sklearn.preprocessing import StandardScaler \n",
    "from sklearn.preprocessing import LabelEncoder\n",
    "from sklearn.cluster import KMeans\n",
    "from sklearn import metrics\n",
    "from sklearn.metrics import silhouette_score, calinski_harabasz_score, davies_bouldin_score\n",
    "from scipy import stats\n",
    "import pickle\n",
    "\n",
    "print('Libraries sudah siap')"
   ]
  },
  {
   "cell_type": "markdown",
   "metadata": {},
   "source": [
    "## Data Loading"
   ]
  },
  {
   "cell_type": "markdown",
   "metadata": {},
   "source": [
    "**Melakukan proses data loading menggunakan library Pandas**"
   ]
  },
  {
   "cell_type": "code",
   "execution_count": 2,
   "metadata": {},
   "outputs": [],
   "source": [
    "df = pd.read_csv('DataGempa.csv', sep=\";\")"
   ]
  },
  {
   "cell_type": "code",
   "execution_count": 3,
   "metadata": {},
   "outputs": [
    {
     "data": {
      "text/html": [
       "<div>\n",
       "<style scoped>\n",
       "    .dataframe tbody tr th:only-of-type {\n",
       "        vertical-align: middle;\n",
       "    }\n",
       "\n",
       "    .dataframe tbody tr th {\n",
       "        vertical-align: top;\n",
       "    }\n",
       "\n",
       "    .dataframe thead th {\n",
       "        text-align: right;\n",
       "    }\n",
       "</style>\n",
       "<table border=\"1\" class=\"dataframe\">\n",
       "  <thead>\n",
       "    <tr style=\"text-align: right;\">\n",
       "      <th></th>\n",
       "      <th>time</th>\n",
       "      <th>latitude</th>\n",
       "      <th>longitude</th>\n",
       "      <th>depth</th>\n",
       "      <th>mag</th>\n",
       "      <th>magType</th>\n",
       "      <th>nst</th>\n",
       "      <th>gap</th>\n",
       "      <th>dmin</th>\n",
       "      <th>rms</th>\n",
       "      <th>...</th>\n",
       "      <th>updated</th>\n",
       "      <th>place</th>\n",
       "      <th>type</th>\n",
       "      <th>horizontalError</th>\n",
       "      <th>depthError</th>\n",
       "      <th>magError</th>\n",
       "      <th>magNst</th>\n",
       "      <th>status</th>\n",
       "      <th>locationSource</th>\n",
       "      <th>magSource</th>\n",
       "    </tr>\n",
       "  </thead>\n",
       "  <tbody>\n",
       "    <tr>\n",
       "      <th>0</th>\n",
       "      <td>2021-08-02T23:01:01.149Z</td>\n",
       "      <td>-3.1615</td>\n",
       "      <td>100.4063</td>\n",
       "      <td>10.00</td>\n",
       "      <td>5.2</td>\n",
       "      <td>mb</td>\n",
       "      <td>NaN</td>\n",
       "      <td>50.0</td>\n",
       "      <td>2.809</td>\n",
       "      <td>0.87</td>\n",
       "      <td>...</td>\n",
       "      <td>2021-10-14T01:05:55.040Z</td>\n",
       "      <td>164 km SW of Sungai Penuh, Indonesia (1)</td>\n",
       "      <td>earthquake</td>\n",
       "      <td>6.2</td>\n",
       "      <td>1.7</td>\n",
       "      <td>0.058</td>\n",
       "      <td>100.0</td>\n",
       "      <td>reviewed</td>\n",
       "      <td>us</td>\n",
       "      <td>us</td>\n",
       "    </tr>\n",
       "    <tr>\n",
       "      <th>1</th>\n",
       "      <td>2021-07-10T02:41:09.501Z</td>\n",
       "      <td>1.8228</td>\n",
       "      <td>96.9785</td>\n",
       "      <td>17.35</td>\n",
       "      <td>5.4</td>\n",
       "      <td>mb</td>\n",
       "      <td>NaN</td>\n",
       "      <td>36.0</td>\n",
       "      <td>0.788</td>\n",
       "      <td>0.87</td>\n",
       "      <td>...</td>\n",
       "      <td>2021-09-17T22:49:15.040Z</td>\n",
       "      <td>98 km SE of Sinabang, Indonesia</td>\n",
       "      <td>earthquake</td>\n",
       "      <td>5.7</td>\n",
       "      <td>3.2</td>\n",
       "      <td>0.041</td>\n",
       "      <td>204.0</td>\n",
       "      <td>reviewed</td>\n",
       "      <td>us</td>\n",
       "      <td>us</td>\n",
       "    </tr>\n",
       "    <tr>\n",
       "      <th>2</th>\n",
       "      <td>2021-06-27T15:56:12.192Z</td>\n",
       "      <td>-2.8938</td>\n",
       "      <td>101.0849</td>\n",
       "      <td>40.30</td>\n",
       "      <td>5.1</td>\n",
       "      <td>mb</td>\n",
       "      <td>NaN</td>\n",
       "      <td>55.0</td>\n",
       "      <td>2.368</td>\n",
       "      <td>0.62</td>\n",
       "      <td>...</td>\n",
       "      <td>2021-09-09T22:05:24.040Z</td>\n",
       "      <td>98 km SSW of Sungai Penuh, Indonesia (1)</td>\n",
       "      <td>earthquake</td>\n",
       "      <td>5.9</td>\n",
       "      <td>4.4</td>\n",
       "      <td>0.055</td>\n",
       "      <td>108.0</td>\n",
       "      <td>reviewed</td>\n",
       "      <td>us</td>\n",
       "      <td>us</td>\n",
       "    </tr>\n",
       "    <tr>\n",
       "      <th>3</th>\n",
       "      <td>2021-06-19T21:12:15.554Z</td>\n",
       "      <td>-4.5600</td>\n",
       "      <td>102.6323</td>\n",
       "      <td>56.20</td>\n",
       "      <td>5.2</td>\n",
       "      <td>mb</td>\n",
       "      <td>NaN</td>\n",
       "      <td>27.0</td>\n",
       "      <td>0.378</td>\n",
       "      <td>0.57</td>\n",
       "      <td>...</td>\n",
       "      <td>2021-08-27T18:57:39.040Z</td>\n",
       "      <td>90 km SW of Pagar Alam, Indonesia (1)</td>\n",
       "      <td>earthquake</td>\n",
       "      <td>6.6</td>\n",
       "      <td>4.5</td>\n",
       "      <td>0.043</td>\n",
       "      <td>176.0</td>\n",
       "      <td>reviewed</td>\n",
       "      <td>us</td>\n",
       "      <td>us</td>\n",
       "    </tr>\n",
       "    <tr>\n",
       "      <th>4</th>\n",
       "      <td>2021-06-15T14:16:14.774Z</td>\n",
       "      <td>-4.2753</td>\n",
       "      <td>102.4086</td>\n",
       "      <td>61.49</td>\n",
       "      <td>5.2</td>\n",
       "      <td>mb</td>\n",
       "      <td>NaN</td>\n",
       "      <td>48.0</td>\n",
       "      <td>0.552</td>\n",
       "      <td>0.66</td>\n",
       "      <td>...</td>\n",
       "      <td>2021-08-26T21:59:23.040Z</td>\n",
       "      <td>54 km SSE of Bengkulu, Indonesia</td>\n",
       "      <td>earthquake</td>\n",
       "      <td>5.2</td>\n",
       "      <td>5.4</td>\n",
       "      <td>0.059</td>\n",
       "      <td>100.0</td>\n",
       "      <td>reviewed</td>\n",
       "      <td>us</td>\n",
       "      <td>us</td>\n",
       "    </tr>\n",
       "  </tbody>\n",
       "</table>\n",
       "<p>5 rows × 22 columns</p>\n",
       "</div>"
      ],
      "text/plain": [
       "                       time  latitude  longitude  depth  mag magType  nst  \\\n",
       "0  2021-08-02T23:01:01.149Z   -3.1615   100.4063  10.00  5.2      mb  NaN   \n",
       "1  2021-07-10T02:41:09.501Z    1.8228    96.9785  17.35  5.4      mb  NaN   \n",
       "2  2021-06-27T15:56:12.192Z   -2.8938   101.0849  40.30  5.1      mb  NaN   \n",
       "3  2021-06-19T21:12:15.554Z   -4.5600   102.6323  56.20  5.2      mb  NaN   \n",
       "4  2021-06-15T14:16:14.774Z   -4.2753   102.4086  61.49  5.2      mb  NaN   \n",
       "\n",
       "    gap   dmin   rms  ...                   updated  \\\n",
       "0  50.0  2.809  0.87  ...  2021-10-14T01:05:55.040Z   \n",
       "1  36.0  0.788  0.87  ...  2021-09-17T22:49:15.040Z   \n",
       "2  55.0  2.368  0.62  ...  2021-09-09T22:05:24.040Z   \n",
       "3  27.0  0.378  0.57  ...  2021-08-27T18:57:39.040Z   \n",
       "4  48.0  0.552  0.66  ...  2021-08-26T21:59:23.040Z   \n",
       "\n",
       "                                      place        type horizontalError  \\\n",
       "0  164 km SW of Sungai Penuh, Indonesia (1)  earthquake             6.2   \n",
       "1           98 km SE of Sinabang, Indonesia  earthquake             5.7   \n",
       "2  98 km SSW of Sungai Penuh, Indonesia (1)  earthquake             5.9   \n",
       "3     90 km SW of Pagar Alam, Indonesia (1)  earthquake             6.6   \n",
       "4          54 km SSE of Bengkulu, Indonesia  earthquake             5.2   \n",
       "\n",
       "  depthError  magError  magNst    status  locationSource magSource  \n",
       "0        1.7     0.058   100.0  reviewed              us        us  \n",
       "1        3.2     0.041   204.0  reviewed              us        us  \n",
       "2        4.4     0.055   108.0  reviewed              us        us  \n",
       "3        4.5     0.043   176.0  reviewed              us        us  \n",
       "4        5.4     0.059   100.0  reviewed              us        us  \n",
       "\n",
       "[5 rows x 22 columns]"
      ]
     },
     "execution_count": 3,
     "metadata": {},
     "output_type": "execute_result"
    }
   ],
   "source": [
    "df.head()"
   ]
  },
  {
   "cell_type": "markdown",
   "metadata": {},
   "source": [
    "Melihat 5 baris teratas dataset"
   ]
  },
  {
   "cell_type": "markdown",
   "metadata": {},
   "source": [
    "Melihat 5 baris terakhir dataset"
   ]
  },
  {
   "cell_type": "code",
   "execution_count": 4,
   "metadata": {},
   "outputs": [
    {
     "data": {
      "text/html": [
       "<div>\n",
       "<style scoped>\n",
       "    .dataframe tbody tr th:only-of-type {\n",
       "        vertical-align: middle;\n",
       "    }\n",
       "\n",
       "    .dataframe tbody tr th {\n",
       "        vertical-align: top;\n",
       "    }\n",
       "\n",
       "    .dataframe thead th {\n",
       "        text-align: right;\n",
       "    }\n",
       "</style>\n",
       "<table border=\"1\" class=\"dataframe\">\n",
       "  <thead>\n",
       "    <tr style=\"text-align: right;\">\n",
       "      <th></th>\n",
       "      <th>time</th>\n",
       "      <th>latitude</th>\n",
       "      <th>longitude</th>\n",
       "      <th>depth</th>\n",
       "      <th>mag</th>\n",
       "      <th>magType</th>\n",
       "      <th>nst</th>\n",
       "      <th>gap</th>\n",
       "      <th>dmin</th>\n",
       "      <th>rms</th>\n",
       "      <th>...</th>\n",
       "      <th>updated</th>\n",
       "      <th>place</th>\n",
       "      <th>type</th>\n",
       "      <th>horizontalError</th>\n",
       "      <th>depthError</th>\n",
       "      <th>magError</th>\n",
       "      <th>magNst</th>\n",
       "      <th>status</th>\n",
       "      <th>locationSource</th>\n",
       "      <th>magSource</th>\n",
       "    </tr>\n",
       "  </thead>\n",
       "  <tbody>\n",
       "    <tr>\n",
       "      <th>890</th>\n",
       "      <td>1973-05-12T05:46:48.700Z</td>\n",
       "      <td>-3.243</td>\n",
       "      <td>101.240</td>\n",
       "      <td>51.0</td>\n",
       "      <td>5.5</td>\n",
       "      <td>mb</td>\n",
       "      <td>NaN</td>\n",
       "      <td>NaN</td>\n",
       "      <td>NaN</td>\n",
       "      <td>NaN</td>\n",
       "      <td>...</td>\n",
       "      <td>2020-07-10T19:34:25.049Z</td>\n",
       "      <td>129 km WNW of Bengkulu, Indonesia</td>\n",
       "      <td>earthquake</td>\n",
       "      <td>NaN</td>\n",
       "      <td>NaN</td>\n",
       "      <td>NaN</td>\n",
       "      <td>NaN</td>\n",
       "      <td>reviewed</td>\n",
       "      <td>us</td>\n",
       "      <td>us</td>\n",
       "    </tr>\n",
       "    <tr>\n",
       "      <th>891</th>\n",
       "      <td>1973-05-04T23:56:06.100Z</td>\n",
       "      <td>-1.468</td>\n",
       "      <td>99.851</td>\n",
       "      <td>51.0</td>\n",
       "      <td>5.9</td>\n",
       "      <td>mb</td>\n",
       "      <td>NaN</td>\n",
       "      <td>NaN</td>\n",
       "      <td>NaN</td>\n",
       "      <td>NaN</td>\n",
       "      <td>...</td>\n",
       "      <td>2015-05-13T18:53:08.000Z</td>\n",
       "      <td>80 km SW of Padang, Indonesia</td>\n",
       "      <td>earthquake</td>\n",
       "      <td>NaN</td>\n",
       "      <td>NaN</td>\n",
       "      <td>NaN</td>\n",
       "      <td>NaN</td>\n",
       "      <td>reviewed</td>\n",
       "      <td>us</td>\n",
       "      <td>us</td>\n",
       "    </tr>\n",
       "    <tr>\n",
       "      <th>892</th>\n",
       "      <td>1973-03-29T06:20:37.600Z</td>\n",
       "      <td>-2.153</td>\n",
       "      <td>99.715</td>\n",
       "      <td>50.0</td>\n",
       "      <td>5.2</td>\n",
       "      <td>mb</td>\n",
       "      <td>NaN</td>\n",
       "      <td>NaN</td>\n",
       "      <td>NaN</td>\n",
       "      <td>NaN</td>\n",
       "      <td>...</td>\n",
       "      <td>2014-11-06T23:21:10.596Z</td>\n",
       "      <td>150 km SSW of Padang, Indonesia</td>\n",
       "      <td>earthquake</td>\n",
       "      <td>NaN</td>\n",
       "      <td>NaN</td>\n",
       "      <td>NaN</td>\n",
       "      <td>NaN</td>\n",
       "      <td>reviewed</td>\n",
       "      <td>us</td>\n",
       "      <td>us</td>\n",
       "    </tr>\n",
       "    <tr>\n",
       "      <th>893</th>\n",
       "      <td>1973-03-17T15:40:48.000Z</td>\n",
       "      <td>-5.193</td>\n",
       "      <td>103.235</td>\n",
       "      <td>68.0</td>\n",
       "      <td>5.7</td>\n",
       "      <td>mb</td>\n",
       "      <td>NaN</td>\n",
       "      <td>NaN</td>\n",
       "      <td>NaN</td>\n",
       "      <td>NaN</td>\n",
       "      <td>...</td>\n",
       "      <td>2020-07-10T19:29:23.961Z</td>\n",
       "      <td>129 km S of Pagar Alam, Indonesia</td>\n",
       "      <td>earthquake</td>\n",
       "      <td>NaN</td>\n",
       "      <td>NaN</td>\n",
       "      <td>NaN</td>\n",
       "      <td>NaN</td>\n",
       "      <td>reviewed</td>\n",
       "      <td>us</td>\n",
       "      <td>us</td>\n",
       "    </tr>\n",
       "    <tr>\n",
       "      <th>894</th>\n",
       "      <td>1973-02-27T14:49:36.900Z</td>\n",
       "      <td>-1.748</td>\n",
       "      <td>99.664</td>\n",
       "      <td>33.0</td>\n",
       "      <td>5.0</td>\n",
       "      <td>mb</td>\n",
       "      <td>NaN</td>\n",
       "      <td>NaN</td>\n",
       "      <td>NaN</td>\n",
       "      <td>NaN</td>\n",
       "      <td>...</td>\n",
       "      <td>2014-11-06T23:21:09.581Z</td>\n",
       "      <td>117 km SW of Padang, Indonesia (2)</td>\n",
       "      <td>earthquake</td>\n",
       "      <td>NaN</td>\n",
       "      <td>NaN</td>\n",
       "      <td>NaN</td>\n",
       "      <td>NaN</td>\n",
       "      <td>reviewed</td>\n",
       "      <td>us</td>\n",
       "      <td>us</td>\n",
       "    </tr>\n",
       "  </tbody>\n",
       "</table>\n",
       "<p>5 rows × 22 columns</p>\n",
       "</div>"
      ],
      "text/plain": [
       "                         time  latitude  longitude  depth  mag magType  nst  \\\n",
       "890  1973-05-12T05:46:48.700Z    -3.243    101.240   51.0  5.5      mb  NaN   \n",
       "891  1973-05-04T23:56:06.100Z    -1.468     99.851   51.0  5.9      mb  NaN   \n",
       "892  1973-03-29T06:20:37.600Z    -2.153     99.715   50.0  5.2      mb  NaN   \n",
       "893  1973-03-17T15:40:48.000Z    -5.193    103.235   68.0  5.7      mb  NaN   \n",
       "894  1973-02-27T14:49:36.900Z    -1.748     99.664   33.0  5.0      mb  NaN   \n",
       "\n",
       "     gap  dmin  rms  ...                   updated  \\\n",
       "890  NaN   NaN  NaN  ...  2020-07-10T19:34:25.049Z   \n",
       "891  NaN   NaN  NaN  ...  2015-05-13T18:53:08.000Z   \n",
       "892  NaN   NaN  NaN  ...  2014-11-06T23:21:10.596Z   \n",
       "893  NaN   NaN  NaN  ...  2020-07-10T19:29:23.961Z   \n",
       "894  NaN   NaN  NaN  ...  2014-11-06T23:21:09.581Z   \n",
       "\n",
       "                                  place        type horizontalError  \\\n",
       "890   129 km WNW of Bengkulu, Indonesia  earthquake             NaN   \n",
       "891       80 km SW of Padang, Indonesia  earthquake             NaN   \n",
       "892     150 km SSW of Padang, Indonesia  earthquake             NaN   \n",
       "893   129 km S of Pagar Alam, Indonesia  earthquake             NaN   \n",
       "894  117 km SW of Padang, Indonesia (2)  earthquake             NaN   \n",
       "\n",
       "    depthError  magError  magNst    status  locationSource magSource  \n",
       "890        NaN       NaN     NaN  reviewed              us        us  \n",
       "891        NaN       NaN     NaN  reviewed              us        us  \n",
       "892        NaN       NaN     NaN  reviewed              us        us  \n",
       "893        NaN       NaN     NaN  reviewed              us        us  \n",
       "894        NaN       NaN     NaN  reviewed              us        us  \n",
       "\n",
       "[5 rows x 22 columns]"
      ]
     },
     "execution_count": 4,
     "metadata": {},
     "output_type": "execute_result"
    }
   ],
   "source": [
    "df.tail()"
   ]
  },
  {
   "cell_type": "markdown",
   "metadata": {},
   "source": [
    "Melihat informasi kolom, baris, dan tipe data"
   ]
  },
  {
   "cell_type": "code",
   "execution_count": 5,
   "metadata": {},
   "outputs": [
    {
     "name": "stdout",
     "output_type": "stream",
     "text": [
      "<class 'pandas.core.frame.DataFrame'>\n",
      "RangeIndex: 895 entries, 0 to 894\n",
      "Data columns (total 22 columns):\n",
      " #   Column           Non-Null Count  Dtype  \n",
      "---  ------           --------------  -----  \n",
      " 0   time             895 non-null    object \n",
      " 1   latitude         895 non-null    float64\n",
      " 2   longitude        895 non-null    float64\n",
      " 3   depth            895 non-null    float64\n",
      " 4   mag              895 non-null    float64\n",
      " 5   magType          895 non-null    object \n",
      " 6   nst              409 non-null    float64\n",
      " 7   gap              484 non-null    float64\n",
      " 8   dmin             145 non-null    float64\n",
      " 9   rms              741 non-null    float64\n",
      " 10  net              895 non-null    object \n",
      " 11  id               895 non-null    object \n",
      " 12  updated          895 non-null    object \n",
      " 13  place            895 non-null    object \n",
      " 14  type             895 non-null    object \n",
      " 15  horizontalError  127 non-null    float64\n",
      " 16  depthError       323 non-null    float64\n",
      " 17  magError         145 non-null    float64\n",
      " 18  magNst           733 non-null    float64\n",
      " 19  status           895 non-null    object \n",
      " 20  locationSource   895 non-null    object \n",
      " 21  magSource        895 non-null    object \n",
      "dtypes: float64(12), object(10)\n",
      "memory usage: 154.0+ KB\n"
     ]
    }
   ],
   "source": [
    "df.info()"
   ]
  },
  {
   "cell_type": "markdown",
   "metadata": {},
   "source": [
    "Mengubah tipe data \"time\" menjadi datetime"
   ]
  },
  {
   "cell_type": "code",
   "execution_count": 6,
   "metadata": {},
   "outputs": [],
   "source": [
    "df[\"time\"]= pd.to_datetime(df[\"time\"], errors='coerce')"
   ]
  },
  {
   "cell_type": "code",
   "execution_count": 7,
   "metadata": {},
   "outputs": [
    {
     "name": "stdout",
     "output_type": "stream",
     "text": [
      "<class 'pandas.core.frame.DataFrame'>\n",
      "RangeIndex: 895 entries, 0 to 894\n",
      "Data columns (total 22 columns):\n",
      " #   Column           Non-Null Count  Dtype              \n",
      "---  ------           --------------  -----              \n",
      " 0   time             895 non-null    datetime64[ns, UTC]\n",
      " 1   latitude         895 non-null    float64            \n",
      " 2   longitude        895 non-null    float64            \n",
      " 3   depth            895 non-null    float64            \n",
      " 4   mag              895 non-null    float64            \n",
      " 5   magType          895 non-null    object             \n",
      " 6   nst              409 non-null    float64            \n",
      " 7   gap              484 non-null    float64            \n",
      " 8   dmin             145 non-null    float64            \n",
      " 9   rms              741 non-null    float64            \n",
      " 10  net              895 non-null    object             \n",
      " 11  id               895 non-null    object             \n",
      " 12  updated          895 non-null    object             \n",
      " 13  place            895 non-null    object             \n",
      " 14  type             895 non-null    object             \n",
      " 15  horizontalError  127 non-null    float64            \n",
      " 16  depthError       323 non-null    float64            \n",
      " 17  magError         145 non-null    float64            \n",
      " 18  magNst           733 non-null    float64            \n",
      " 19  status           895 non-null    object             \n",
      " 20  locationSource   895 non-null    object             \n",
      " 21  magSource        895 non-null    object             \n",
      "dtypes: datetime64[ns, UTC](1), float64(12), object(9)\n",
      "memory usage: 154.0+ KB\n"
     ]
    }
   ],
   "source": [
    "df.info()"
   ]
  },
  {
   "cell_type": "markdown",
   "metadata": {},
   "source": [
    "Dataset memiliki tipe data yang bervariasi yakni float dan object (kategorik). Selain itu juga terdapat missing value pada dataset karena banyaknya nilai non-null pada beberapa atribut tidak sesuai dengan banyaknya data entri."
   ]
  },
  {
   "cell_type": "markdown",
   "metadata": {},
   "source": [
    "Mengelompokan atribut bertipe numerik dan kategorik"
   ]
  },
  {
   "cell_type": "code",
   "execution_count": 8,
   "metadata": {},
   "outputs": [
    {
     "name": "stdout",
     "output_type": "stream",
     "text": [
      "categorical: ['magType', 'net', 'id', 'updated', 'place', 'type', 'status', 'locationSource', 'magSource'] \n",
      " numerical:  ['time', 'latitude', 'longitude', 'depth', 'mag', 'nst', 'gap', 'dmin', 'rms', 'horizontalError', 'depthError', 'magError', 'magNst']\n"
     ]
    }
   ],
   "source": [
    "# Variabel bertipe kategorik\n",
    "categorical = [i for i in df.columns if df[i].dtypes == 'O']\n",
    "\n",
    "# Variabel bertipe numerik\n",
    "numerical = [i for i in df.columns if i not in categorical]\n",
    "print('categorical:', categorical, '\\n', 'numerical: ', numerical)"
   ]
  },
  {
   "cell_type": "markdown",
   "metadata": {},
   "source": [
    "Melihat jumlah baris dan kolom dataset"
   ]
  },
  {
   "cell_type": "code",
   "execution_count": 9,
   "metadata": {},
   "outputs": [
    {
     "data": {
      "text/plain": [
       "(895, 22)"
      ]
     },
     "execution_count": 9,
     "metadata": {},
     "output_type": "execute_result"
    }
   ],
   "source": [
    "df.shape"
   ]
  },
  {
   "cell_type": "markdown",
   "metadata": {},
   "source": [
    "Dataset memiliki 145460 baris dan 23 kolom"
   ]
  },
  {
   "cell_type": "markdown",
   "metadata": {},
   "source": [
    "Melihat semua kolom dari dataset"
   ]
  },
  {
   "cell_type": "code",
   "execution_count": 10,
   "metadata": {},
   "outputs": [
    {
     "data": {
      "text/plain": [
       "Index(['time', 'latitude', 'longitude', 'depth', 'mag', 'magType', 'nst',\n",
       "       'gap', 'dmin', 'rms', 'net', 'id', 'updated', 'place', 'type',\n",
       "       'horizontalError', 'depthError', 'magError', 'magNst', 'status',\n",
       "       'locationSource', 'magSource'],\n",
       "      dtype='object')"
      ]
     },
     "execution_count": 10,
     "metadata": {},
     "output_type": "execute_result"
    }
   ],
   "source": [
    "df.columns"
   ]
  },
  {
   "cell_type": "markdown",
   "metadata": {},
   "source": [
    "Melihat unique values pada setiap atribut"
   ]
  },
  {
   "cell_type": "code",
   "execution_count": 11,
   "metadata": {},
   "outputs": [
    {
     "name": "stdout",
     "output_type": "stream",
     "text": [
      "time :  895\n",
      "latitude :  862\n",
      "longitude :  866\n",
      "depth :  368\n",
      "mag :  13\n",
      "magType :  1\n",
      "nst :  172\n",
      "gap :  348\n",
      "dmin :  143\n",
      "rms :  97\n",
      "net :  1\n",
      "id :  895\n",
      "updated :  876\n",
      "place :  895\n",
      "type :  1\n",
      "horizontalError :  43\n",
      "depthError :  127\n",
      "magError :  48\n",
      "magNst :  140\n",
      "status :  1\n",
      "locationSource :  1\n",
      "magSource :  1\n"
     ]
    }
   ],
   "source": [
    "for col in df.columns:\n",
    "    print(col,': ', df[col].nunique())"
   ]
  },
  {
   "cell_type": "markdown",
   "metadata": {},
   "source": [
    "**Mengecek missing value dan jumlahnya**"
   ]
  },
  {
   "cell_type": "code",
   "execution_count": 12,
   "metadata": {},
   "outputs": [
    {
     "data": {
      "text/plain": [
       "time                 0\n",
       "latitude             0\n",
       "longitude            0\n",
       "depth                0\n",
       "mag                  0\n",
       "magType              0\n",
       "nst                486\n",
       "gap                411\n",
       "dmin               750\n",
       "rms                154\n",
       "net                  0\n",
       "id                   0\n",
       "updated              0\n",
       "place                0\n",
       "type                 0\n",
       "horizontalError    768\n",
       "depthError         572\n",
       "magError           750\n",
       "magNst             162\n",
       "status               0\n",
       "locationSource       0\n",
       "magSource            0\n",
       "dtype: int64"
      ]
     },
     "execution_count": 12,
     "metadata": {},
     "output_type": "execute_result"
    }
   ],
   "source": [
    "df.isnull().sum()"
   ]
  },
  {
   "cell_type": "markdown",
   "metadata": {},
   "source": [
    "Melihat persentase missing value"
   ]
  },
  {
   "cell_type": "code",
   "execution_count": 13,
   "metadata": {},
   "outputs": [
    {
     "data": {
      "text/plain": [
       "time                 0.0 %\n",
       "status               0.0 %\n",
       "type                 0.0 %\n",
       "place                0.0 %\n",
       "updated              0.0 %\n",
       "id                   0.0 %\n",
       "locationSource       0.0 %\n",
       "net                  0.0 %\n",
       "magType              0.0 %\n",
       "mag                  0.0 %\n",
       "depth                0.0 %\n",
       "longitude            0.0 %\n",
       "latitude             0.0 %\n",
       "magSource            0.0 %\n",
       "rms                17.21 %\n",
       "magNst              18.1 %\n",
       "gap                45.92 %\n",
       "nst                 54.3 %\n",
       "depthError         63.91 %\n",
       "dmin                83.8 %\n",
       "magError            83.8 %\n",
       "horizontalError    85.81 %\n",
       "dtype: object"
      ]
     },
     "execution_count": 13,
     "metadata": {},
     "output_type": "execute_result"
    }
   ],
   "source": [
    "missing_value = df.apply(lambda x: f'{((x.isnull().sum()/df.shape[0])*100).round(2)} %').sort_values(ascending=True)\n",
    "missing_value"
   ]
  },
  {
   "cell_type": "markdown",
   "metadata": {},
   "source": [
    "Terlihat bahwa terdapat 8 atribut yang mempunyai missing value. Untuk itu perlu dilakukan penanganan pada tahap selanjutnya."
   ]
  },
  {
   "cell_type": "markdown",
   "metadata": {},
   "source": [
    "Melihat missing value pada atribut bertipe numerik"
   ]
  },
  {
   "cell_type": "code",
   "execution_count": 14,
   "metadata": {},
   "outputs": [
    {
     "data": {
      "text/plain": [
       "time                 0\n",
       "latitude             0\n",
       "longitude            0\n",
       "depth                0\n",
       "mag                  0\n",
       "nst                486\n",
       "gap                411\n",
       "dmin               750\n",
       "rms                154\n",
       "horizontalError    768\n",
       "depthError         572\n",
       "magError           750\n",
       "magNst             162\n",
       "dtype: int64"
      ]
     },
     "execution_count": 14,
     "metadata": {},
     "output_type": "execute_result"
    }
   ],
   "source": [
    "df[numerical].isnull().sum()"
   ]
  },
  {
   "cell_type": "code",
   "execution_count": 15,
   "metadata": {},
   "outputs": [
    {
     "data": {
      "image/png": "[encoded data removed]",
      "text/plain": [
       "<Figure size 432x288 with 1 Axes>"
      ]
     },
     "metadata": {
      "needs_background": "light"
     },
     "output_type": "display_data"
    }
   ],
   "source": [
    "df[numerical].isnull().sum().plot.bar()\n",
    "plt.show()"
   ]
  },
  {
   "cell_type": "markdown",
   "metadata": {},
   "source": [
    "Terlihat bahwa missing value pada atribut **dmin**, **magError**, dan **horizontalError** mencapai 80%"
   ]
  },
  {
   "cell_type": "markdown",
   "metadata": {},
   "source": [
    "Melihat missing value pada atribut bertipe kategorik"
   ]
  },
  {
   "cell_type": "code",
   "execution_count": 16,
   "metadata": {},
   "outputs": [
    {
     "data": {
      "text/plain": [
       "magType           0\n",
       "net               0\n",
       "id                0\n",
       "updated           0\n",
       "place             0\n",
       "type              0\n",
       "status            0\n",
       "locationSource    0\n",
       "magSource         0\n",
       "dtype: int64"
      ]
     },
     "execution_count": 16,
     "metadata": {},
     "output_type": "execute_result"
    }
   ],
   "source": [
    "df[categorical].isnull().sum()"
   ]
  },
  {
   "cell_type": "markdown",
   "metadata": {},
   "source": [
    "Terlihat bahwa tidak terdapat missing value pada atribut bertipe kategorik."
   ]
  },
  {
   "cell_type": "markdown",
   "metadata": {},
   "source": [
    "Melihat distribusi pada atribut numerik"
   ]
  },
  {
   "cell_type": "code",
   "execution_count": 17,
   "metadata": {},
   "outputs": [
    {
     "data": {
      "image/png": "[encoded data removed]",
      "text/plain": [
       "<Figure size 1440x1440 with 16 Axes>"
      ]
     },
     "metadata": {
      "needs_background": "light"
     },
     "output_type": "display_data"
    }
   ],
   "source": [
    "df[numerical].hist(bins=10, figsize = (20,20))\n",
    "plt.show()"
   ]
  },
  {
   "cell_type": "markdown",
   "metadata": {},
   "source": [
    "Berdasarkan histogram terlihat bahwa atribut **rms** dan **horizontalError** berdistribusi normal, sedangkan beberapa atribut memiliki skewness yang tinggi, yaitu atribut **mag**, **nst**, **gap**, **depthError**, **magError**, dan **magNst**."
   ]
  },
  {
   "cell_type": "markdown",
   "metadata": {},
   "source": [
    "Melihat statistik deskriptif dari atribut bertipe numerik"
   ]
  },
  {
   "cell_type": "code",
   "execution_count": 18,
   "metadata": {},
   "outputs": [
    {
     "data": {
      "text/html": [
       "<div>\n",
       "<style scoped>\n",
       "    .dataframe tbody tr th:only-of-type {\n",
       "        vertical-align: middle;\n",
       "    }\n",
       "\n",
       "    .dataframe tbody tr th {\n",
       "        vertical-align: top;\n",
       "    }\n",
       "\n",
       "    .dataframe thead th {\n",
       "        text-align: right;\n",
       "    }\n",
       "</style>\n",
       "<table border=\"1\" class=\"dataframe\">\n",
       "  <thead>\n",
       "    <tr style=\"text-align: right;\">\n",
       "      <th></th>\n",
       "      <th>latitude</th>\n",
       "      <th>longitude</th>\n",
       "      <th>depth</th>\n",
       "      <th>mag</th>\n",
       "      <th>nst</th>\n",
       "      <th>gap</th>\n",
       "      <th>dmin</th>\n",
       "      <th>rms</th>\n",
       "      <th>horizontalError</th>\n",
       "      <th>depthError</th>\n",
       "      <th>magError</th>\n",
       "      <th>magNst</th>\n",
       "    </tr>\n",
       "  </thead>\n",
       "  <tbody>\n",
       "    <tr>\n",
       "      <th>count</th>\n",
       "      <td>895.000000</td>\n",
       "      <td>895.000000</td>\n",
       "      <td>895.000000</td>\n",
       "      <td>895.000000</td>\n",
       "      <td>409.000000</td>\n",
       "      <td>484.000000</td>\n",
       "      <td>145.000000</td>\n",
       "      <td>741.000000</td>\n",
       "      <td>127.00000</td>\n",
       "      <td>323.000000</td>\n",
       "      <td>145.000000</td>\n",
       "      <td>733.000000</td>\n",
       "    </tr>\n",
       "    <tr>\n",
       "      <th>mean</th>\n",
       "      <td>-2.218026</td>\n",
       "      <td>100.336492</td>\n",
       "      <td>36.598659</td>\n",
       "      <td>5.177765</td>\n",
       "      <td>98.960880</td>\n",
       "      <td>70.668388</td>\n",
       "      <td>1.778759</td>\n",
       "      <td>0.946964</td>\n",
       "      <td>6.78189</td>\n",
       "      <td>7.077090</td>\n",
       "      <td>0.063924</td>\n",
       "      <td>42.223738</td>\n",
       "    </tr>\n",
       "    <tr>\n",
       "      <th>std</th>\n",
       "      <td>3.247293</td>\n",
       "      <td>2.767184</td>\n",
       "      <td>14.122270</td>\n",
       "      <td>0.211174</td>\n",
       "      <td>68.195677</td>\n",
       "      <td>39.038384</td>\n",
       "      <td>0.981209</td>\n",
       "      <td>0.196881</td>\n",
       "      <td>1.30417</td>\n",
       "      <td>5.087468</td>\n",
       "      <td>0.017621</td>\n",
       "      <td>35.811157</td>\n",
       "    </tr>\n",
       "    <tr>\n",
       "      <th>min</th>\n",
       "      <td>-6.598000</td>\n",
       "      <td>95.298200</td>\n",
       "      <td>4.900000</td>\n",
       "      <td>5.000000</td>\n",
       "      <td>14.000000</td>\n",
       "      <td>18.500000</td>\n",
       "      <td>0.211000</td>\n",
       "      <td>0.200000</td>\n",
       "      <td>2.80000</td>\n",
       "      <td>0.000000</td>\n",
       "      <td>0.041000</td>\n",
       "      <td>1.000000</td>\n",
       "    </tr>\n",
       "    <tr>\n",
       "      <th>25%</th>\n",
       "      <td>-4.899500</td>\n",
       "      <td>97.490500</td>\n",
       "      <td>30.000000</td>\n",
       "      <td>5.000000</td>\n",
       "      <td>54.000000</td>\n",
       "      <td>41.000000</td>\n",
       "      <td>0.868000</td>\n",
       "      <td>0.800000</td>\n",
       "      <td>6.35000</td>\n",
       "      <td>3.900000</td>\n",
       "      <td>0.054000</td>\n",
       "      <td>17.000000</td>\n",
       "    </tr>\n",
       "    <tr>\n",
       "      <th>50%</th>\n",
       "      <td>-3.161500</td>\n",
       "      <td>100.722000</td>\n",
       "      <td>33.000000</td>\n",
       "      <td>5.100000</td>\n",
       "      <td>83.000000</td>\n",
       "      <td>62.100000</td>\n",
       "      <td>1.907000</td>\n",
       "      <td>0.930000</td>\n",
       "      <td>6.80000</td>\n",
       "      <td>5.400000</td>\n",
       "      <td>0.061000</td>\n",
       "      <td>30.000000</td>\n",
       "    </tr>\n",
       "    <tr>\n",
       "      <th>75%</th>\n",
       "      <td>0.964500</td>\n",
       "      <td>102.468000</td>\n",
       "      <td>44.975000</td>\n",
       "      <td>5.300000</td>\n",
       "      <td>121.000000</td>\n",
       "      <td>90.025000</td>\n",
       "      <td>2.469000</td>\n",
       "      <td>1.070000</td>\n",
       "      <td>7.30000</td>\n",
       "      <td>9.350000</td>\n",
       "      <td>0.069000</td>\n",
       "      <td>59.000000</td>\n",
       "    </tr>\n",
       "    <tr>\n",
       "      <th>max</th>\n",
       "      <td>5.375000</td>\n",
       "      <td>105.739000</td>\n",
       "      <td>70.000000</td>\n",
       "      <td>6.700000</td>\n",
       "      <td>434.000000</td>\n",
       "      <td>223.200000</td>\n",
       "      <td>5.562000</td>\n",
       "      <td>1.580000</td>\n",
       "      <td>11.90000</td>\n",
       "      <td>33.400000</td>\n",
       "      <td>0.200000</td>\n",
       "      <td>204.000000</td>\n",
       "    </tr>\n",
       "  </tbody>\n",
       "</table>\n",
       "</div>"
      ],
      "text/plain": [
       "         latitude   longitude       depth         mag         nst         gap  \\\n",
       "count  895.000000  895.000000  895.000000  895.000000  409.000000  484.000000   \n",
       "mean    -2.218026  100.336492   36.598659    5.177765   98.960880   70.668388   \n",
       "std      3.247293    2.767184   14.122270    0.211174   68.195677   39.038384   \n",
       "min     -6.598000   95.298200    4.900000    5.000000   14.000000   18.500000   \n",
       "25%     -4.899500   97.490500   30.000000    5.000000   54.000000   41.000000   \n",
       "50%     -3.161500  100.722000   33.000000    5.100000   83.000000   62.100000   \n",
       "75%      0.964500  102.468000   44.975000    5.300000  121.000000   90.025000   \n",
       "max      5.375000  105.739000   70.000000    6.700000  434.000000  223.200000   \n",
       "\n",
       "             dmin         rms  horizontalError  depthError    magError  \\\n",
       "count  145.000000  741.000000        127.00000  323.000000  145.000000   \n",
       "mean     1.778759    0.946964          6.78189    7.077090    0.063924   \n",
       "std      0.981209    0.196881          1.30417    5.087468    0.017621   \n",
       "min      0.211000    0.200000          2.80000    0.000000    0.041000   \n",
       "25%      0.868000    0.800000          6.35000    3.900000    0.054000   \n",
       "50%      1.907000    0.930000          6.80000    5.400000    0.061000   \n",
       "75%      2.469000    1.070000          7.30000    9.350000    0.069000   \n",
       "max      5.562000    1.580000         11.90000   33.400000    0.200000   \n",
       "\n",
       "           magNst  \n",
       "count  733.000000  \n",
       "mean    42.223738  \n",
       "std     35.811157  \n",
       "min      1.000000  \n",
       "25%     17.000000  \n",
       "50%     30.000000  \n",
       "75%     59.000000  \n",
       "max    204.000000  "
      ]
     },
     "execution_count": 18,
     "metadata": {},
     "output_type": "execute_result"
    }
   ],
   "source": [
    "df[numerical].describe()"
   ]
  },
  {
   "cell_type": "markdown",
   "metadata": {},
   "source": [
    "Melihat statistik deskriptif dari atribut bertipe object"
   ]
  },
  {
   "cell_type": "code",
   "execution_count": 19,
   "metadata": {},
   "outputs": [
    {
     "data": {
      "text/html": [
       "<div>\n",
       "<style scoped>\n",
       "    .dataframe tbody tr th:only-of-type {\n",
       "        vertical-align: middle;\n",
       "    }\n",
       "\n",
       "    .dataframe tbody tr th {\n",
       "        vertical-align: top;\n",
       "    }\n",
       "\n",
       "    .dataframe thead th {\n",
       "        text-align: right;\n",
       "    }\n",
       "</style>\n",
       "<table border=\"1\" class=\"dataframe\">\n",
       "  <thead>\n",
       "    <tr style=\"text-align: right;\">\n",
       "      <th></th>\n",
       "      <th>magType</th>\n",
       "      <th>net</th>\n",
       "      <th>id</th>\n",
       "      <th>updated</th>\n",
       "      <th>place</th>\n",
       "      <th>type</th>\n",
       "      <th>status</th>\n",
       "      <th>locationSource</th>\n",
       "      <th>magSource</th>\n",
       "    </tr>\n",
       "  </thead>\n",
       "  <tbody>\n",
       "    <tr>\n",
       "      <th>count</th>\n",
       "      <td>895</td>\n",
       "      <td>895</td>\n",
       "      <td>895</td>\n",
       "      <td>895</td>\n",
       "      <td>895</td>\n",
       "      <td>895</td>\n",
       "      <td>895</td>\n",
       "      <td>895</td>\n",
       "      <td>895</td>\n",
       "    </tr>\n",
       "    <tr>\n",
       "      <th>unique</th>\n",
       "      <td>1</td>\n",
       "      <td>1</td>\n",
       "      <td>895</td>\n",
       "      <td>876</td>\n",
       "      <td>895</td>\n",
       "      <td>1</td>\n",
       "      <td>1</td>\n",
       "      <td>1</td>\n",
       "      <td>1</td>\n",
       "    </tr>\n",
       "    <tr>\n",
       "      <th>top</th>\n",
       "      <td>mb</td>\n",
       "      <td>us</td>\n",
       "      <td>us6000f1ny</td>\n",
       "      <td>2015-05-13T18:53:53.000Z</td>\n",
       "      <td>164 km SW of Sungai Penuh, Indonesia (1)</td>\n",
       "      <td>earthquake</td>\n",
       "      <td>reviewed</td>\n",
       "      <td>us</td>\n",
       "      <td>us</td>\n",
       "    </tr>\n",
       "    <tr>\n",
       "      <th>freq</th>\n",
       "      <td>895</td>\n",
       "      <td>895</td>\n",
       "      <td>1</td>\n",
       "      <td>6</td>\n",
       "      <td>1</td>\n",
       "      <td>895</td>\n",
       "      <td>895</td>\n",
       "      <td>895</td>\n",
       "      <td>895</td>\n",
       "    </tr>\n",
       "  </tbody>\n",
       "</table>\n",
       "</div>"
      ],
      "text/plain": [
       "       magType  net          id                   updated  \\\n",
       "count      895  895         895                       895   \n",
       "unique       1    1         895                       876   \n",
       "top         mb   us  us6000f1ny  2015-05-13T18:53:53.000Z   \n",
       "freq       895  895           1                         6   \n",
       "\n",
       "                                           place        type    status  \\\n",
       "count                                        895         895       895   \n",
       "unique                                       895           1         1   \n",
       "top     164 km SW of Sungai Penuh, Indonesia (1)  earthquake  reviewed   \n",
       "freq                                           1         895       895   \n",
       "\n",
       "       locationSource magSource  \n",
       "count             895       895  \n",
       "unique              1         1  \n",
       "top                us        us  \n",
       "freq              895       895  "
      ]
     },
     "execution_count": 19,
     "metadata": {},
     "output_type": "execute_result"
    }
   ],
   "source": [
    "df[categorical].describe()"
   ]
  },
  {
   "cell_type": "markdown",
   "metadata": {},
   "source": [
    "## Data Cleaning"
   ]
  },
  {
   "cell_type": "markdown",
   "metadata": {},
   "source": [
    "Bagian ini berisi proses penyiapan data berupa data cleaning sebelum\n",
    "dilakukan explorasi data lebih lanjut."
   ]
  },
  {
   "cell_type": "markdown",
   "metadata": {},
   "source": [
    "#### Mengecek duplikasi data"
   ]
  },
  {
   "cell_type": "code",
   "execution_count": 20,
   "metadata": {},
   "outputs": [
    {
     "data": {
      "text/plain": [
       "0"
      ]
     },
     "execution_count": 20,
     "metadata": {},
     "output_type": "execute_result"
    }
   ],
   "source": [
    "df.duplicated().sum()"
   ]
  },
  {
   "cell_type": "markdown",
   "metadata": {},
   "source": [
    "Terlihat bahwa tidak terdapat duplikasi data."
   ]
  },
  {
   "cell_type": "markdown",
   "metadata": {},
   "source": [
    "#### Menangani Outlier"
   ]
  },
  {
   "cell_type": "markdown",
   "metadata": {},
   "source": [
    "Mengecek statistik deskriptif dari data bertipe numerik"
   ]
  },
  {
   "cell_type": "code",
   "execution_count": 21,
   "metadata": {},
   "outputs": [
    {
     "data": {
      "text/html": [
       "<div>\n",
       "<style scoped>\n",
       "    .dataframe tbody tr th:only-of-type {\n",
       "        vertical-align: middle;\n",
       "    }\n",
       "\n",
       "    .dataframe tbody tr th {\n",
       "        vertical-align: top;\n",
       "    }\n",
       "\n",
       "    .dataframe thead th {\n",
       "        text-align: right;\n",
       "    }\n",
       "</style>\n",
       "<table border=\"1\" class=\"dataframe\">\n",
       "  <thead>\n",
       "    <tr style=\"text-align: right;\">\n",
       "      <th></th>\n",
       "      <th>latitude</th>\n",
       "      <th>longitude</th>\n",
       "      <th>depth</th>\n",
       "      <th>mag</th>\n",
       "      <th>nst</th>\n",
       "      <th>gap</th>\n",
       "      <th>dmin</th>\n",
       "      <th>rms</th>\n",
       "      <th>horizontalError</th>\n",
       "      <th>depthError</th>\n",
       "      <th>magError</th>\n",
       "      <th>magNst</th>\n",
       "    </tr>\n",
       "  </thead>\n",
       "  <tbody>\n",
       "    <tr>\n",
       "      <th>count</th>\n",
       "      <td>895.000000</td>\n",
       "      <td>895.000000</td>\n",
       "      <td>895.000000</td>\n",
       "      <td>895.000000</td>\n",
       "      <td>409.000000</td>\n",
       "      <td>484.000000</td>\n",
       "      <td>145.000000</td>\n",
       "      <td>741.000000</td>\n",
       "      <td>127.00000</td>\n",
       "      <td>323.000000</td>\n",
       "      <td>145.000000</td>\n",
       "      <td>733.000000</td>\n",
       "    </tr>\n",
       "    <tr>\n",
       "      <th>mean</th>\n",
       "      <td>-2.218026</td>\n",
       "      <td>100.336492</td>\n",
       "      <td>36.598659</td>\n",
       "      <td>5.177765</td>\n",
       "      <td>98.960880</td>\n",
       "      <td>70.668388</td>\n",
       "      <td>1.778759</td>\n",
       "      <td>0.946964</td>\n",
       "      <td>6.78189</td>\n",
       "      <td>7.077090</td>\n",
       "      <td>0.063924</td>\n",
       "      <td>42.223738</td>\n",
       "    </tr>\n",
       "    <tr>\n",
       "      <th>std</th>\n",
       "      <td>3.247293</td>\n",
       "      <td>2.767184</td>\n",
       "      <td>14.122270</td>\n",
       "      <td>0.211174</td>\n",
       "      <td>68.195677</td>\n",
       "      <td>39.038384</td>\n",
       "      <td>0.981209</td>\n",
       "      <td>0.196881</td>\n",
       "      <td>1.30417</td>\n",
       "      <td>5.087468</td>\n",
       "      <td>0.017621</td>\n",
       "      <td>35.811157</td>\n",
       "    </tr>\n",
       "    <tr>\n",
       "      <th>min</th>\n",
       "      <td>-6.598000</td>\n",
       "      <td>95.298200</td>\n",
       "      <td>4.900000</td>\n",
       "      <td>5.000000</td>\n",
       "      <td>14.000000</td>\n",
       "      <td>18.500000</td>\n",
       "      <td>0.211000</td>\n",
       "      <td>0.200000</td>\n",
       "      <td>2.80000</td>\n",
       "      <td>0.000000</td>\n",
       "      <td>0.041000</td>\n",
       "      <td>1.000000</td>\n",
       "    </tr>\n",
       "    <tr>\n",
       "      <th>25%</th>\n",
       "      <td>-4.899500</td>\n",
       "      <td>97.490500</td>\n",
       "      <td>30.000000</td>\n",
       "      <td>5.000000</td>\n",
       "      <td>54.000000</td>\n",
       "      <td>41.000000</td>\n",
       "      <td>0.868000</td>\n",
       "      <td>0.800000</td>\n",
       "      <td>6.35000</td>\n",
       "      <td>3.900000</td>\n",
       "      <td>0.054000</td>\n",
       "      <td>17.000000</td>\n",
       "    </tr>\n",
       "    <tr>\n",
       "      <th>50%</th>\n",
       "      <td>-3.161500</td>\n",
       "      <td>100.722000</td>\n",
       "      <td>33.000000</td>\n",
       "      <td>5.100000</td>\n",
       "      <td>83.000000</td>\n",
       "      <td>62.100000</td>\n",
       "      <td>1.907000</td>\n",
       "      <td>0.930000</td>\n",
       "      <td>6.80000</td>\n",
       "      <td>5.400000</td>\n",
       "      <td>0.061000</td>\n",
       "      <td>30.000000</td>\n",
       "    </tr>\n",
       "    <tr>\n",
       "      <th>75%</th>\n",
       "      <td>0.964500</td>\n",
       "      <td>102.468000</td>\n",
       "      <td>44.975000</td>\n",
       "      <td>5.300000</td>\n",
       "      <td>121.000000</td>\n",
       "      <td>90.025000</td>\n",
       "      <td>2.469000</td>\n",
       "      <td>1.070000</td>\n",
       "      <td>7.30000</td>\n",
       "      <td>9.350000</td>\n",
       "      <td>0.069000</td>\n",
       "      <td>59.000000</td>\n",
       "    </tr>\n",
       "    <tr>\n",
       "      <th>max</th>\n",
       "      <td>5.375000</td>\n",
       "      <td>105.739000</td>\n",
       "      <td>70.000000</td>\n",
       "      <td>6.700000</td>\n",
       "      <td>434.000000</td>\n",
       "      <td>223.200000</td>\n",
       "      <td>5.562000</td>\n",
       "      <td>1.580000</td>\n",
       "      <td>11.90000</td>\n",
       "      <td>33.400000</td>\n",
       "      <td>0.200000</td>\n",
       "      <td>204.000000</td>\n",
       "    </tr>\n",
       "  </tbody>\n",
       "</table>\n",
       "</div>"
      ],
      "text/plain": [
       "         latitude   longitude       depth         mag         nst         gap  \\\n",
       "count  895.000000  895.000000  895.000000  895.000000  409.000000  484.000000   \n",
       "mean    -2.218026  100.336492   36.598659    5.177765   98.960880   70.668388   \n",
       "std      3.247293    2.767184   14.122270    0.211174   68.195677   39.038384   \n",
       "min     -6.598000   95.298200    4.900000    5.000000   14.000000   18.500000   \n",
       "25%     -4.899500   97.490500   30.000000    5.000000   54.000000   41.000000   \n",
       "50%     -3.161500  100.722000   33.000000    5.100000   83.000000   62.100000   \n",
       "75%      0.964500  102.468000   44.975000    5.300000  121.000000   90.025000   \n",
       "max      5.375000  105.739000   70.000000    6.700000  434.000000  223.200000   \n",
       "\n",
       "             dmin         rms  horizontalError  depthError    magError  \\\n",
       "count  145.000000  741.000000        127.00000  323.000000  145.000000   \n",
       "mean     1.778759    0.946964          6.78189    7.077090    0.063924   \n",
       "std      0.981209    0.196881          1.30417    5.087468    0.017621   \n",
       "min      0.211000    0.200000          2.80000    0.000000    0.041000   \n",
       "25%      0.868000    0.800000          6.35000    3.900000    0.054000   \n",
       "50%      1.907000    0.930000          6.80000    5.400000    0.061000   \n",
       "75%      2.469000    1.070000          7.30000    9.350000    0.069000   \n",
       "max      5.562000    1.580000         11.90000   33.400000    0.200000   \n",
       "\n",
       "           magNst  \n",
       "count  733.000000  \n",
       "mean    42.223738  \n",
       "std     35.811157  \n",
       "min      1.000000  \n",
       "25%     17.000000  \n",
       "50%     30.000000  \n",
       "75%     59.000000  \n",
       "max    204.000000  "
      ]
     },
     "execution_count": 21,
     "metadata": {},
     "output_type": "execute_result"
    }
   ],
   "source": [
    "df[numerical].describe()"
   ]
  },
  {
   "cell_type": "markdown",
   "metadata": {},
   "source": [
    "Terlihat bahwa atribut memiliki rentang yang berbeda-beda"
   ]
  },
  {
   "cell_type": "markdown",
   "metadata": {},
   "source": [
    "**Mengecek boxplot pada atribut numerik**"
   ]
  },
  {
   "cell_type": "code",
   "execution_count": 22,
   "metadata": {},
   "outputs": [
    {
     "data": {
      "image/png": "[encoded data removed]",
      "text/plain": [
       "<Figure size 2160x2160 with 1 Axes>"
      ]
     },
     "metadata": {
      "needs_background": "light"
     },
     "output_type": "display_data"
    }
   ],
   "source": [
    "df[numerical].boxplot(figsize=(30,30))\n",
    "plt.show()"
   ]
  },
  {
   "cell_type": "markdown",
   "metadata": {},
   "source": [
    "Boxplot menunjukkan outlier dalam jumlah banyak pada atribut **MinTemp**, **MaxTemp**, **Rainfall**, **Evaporation**, **WindGustSpeed**, **WindSpeed9am**, **WindSpeed3pm**, **Humidity9am**, **Pressure9am**, **Pressure3pm**, **Temp9am**, dan **Temp3pm**."
   ]
  },
  {
   "cell_type": "code",
   "execution_count": 23,
   "metadata": {},
   "outputs": [
    {
     "name": "stdout",
     "output_type": "stream",
     "text": [
      "outlier : ['depth', 'mag', 'nst', 'gap', 'depthError', 'magNst']\n"
     ]
    }
   ],
   "source": [
    "outlier = ['depth', 'mag', 'nst', 'gap', 'depthError','magNst']\n",
    "print('outlier :',outlier)"
   ]
  },
  {
   "cell_type": "markdown",
   "metadata": {},
   "source": [
    "Mengatasi outlier dengan IQR"
   ]
  },
  {
   "cell_type": "code",
   "execution_count": 24,
   "metadata": {},
   "outputs": [],
   "source": [
    "for feature in outlier:\n",
    "    q1 = df[feature].quantile(0.25)\n",
    "    q3 = df[feature].quantile(0.75)\n",
    "    IQR = q3-q1\n",
    "    lower_limit = q1 - (IQR*1.5)\n",
    "    upper_limit = q3 + (IQR*1.5)\n",
    "    df.loc[df[feature]<lower_limit,feature] = lower_limit\n",
    "    df.loc[df[feature]>upper_limit,feature] = upper_limit"
   ]
  },
  {
   "cell_type": "code",
   "execution_count": 25,
   "metadata": {},
   "outputs": [
    {
     "data": {
      "image/png": "[encoded data removed]",
      "text/plain": [
       "<Figure size 1080x1080 with 1 Axes>"
      ]
     },
     "metadata": {
      "needs_background": "light"
     },
     "output_type": "display_data"
    }
   ],
   "source": [
    "df[outlier].boxplot(figsize = (15,15))\n",
    "plt.show()"
   ]
  },
  {
   "cell_type": "markdown",
   "metadata": {},
   "source": [
    "Mengecek ulang statistik deskriptif"
   ]
  },
  {
   "cell_type": "code",
   "execution_count": 26,
   "metadata": {},
   "outputs": [
    {
     "data": {
      "text/html": [
       "<div>\n",
       "<style scoped>\n",
       "    .dataframe tbody tr th:only-of-type {\n",
       "        vertical-align: middle;\n",
       "    }\n",
       "\n",
       "    .dataframe tbody tr th {\n",
       "        vertical-align: top;\n",
       "    }\n",
       "\n",
       "    .dataframe thead th {\n",
       "        text-align: right;\n",
       "    }\n",
       "</style>\n",
       "<table border=\"1\" class=\"dataframe\">\n",
       "  <thead>\n",
       "    <tr style=\"text-align: right;\">\n",
       "      <th></th>\n",
       "      <th>depth</th>\n",
       "      <th>mag</th>\n",
       "      <th>nst</th>\n",
       "      <th>gap</th>\n",
       "      <th>depthError</th>\n",
       "      <th>magNst</th>\n",
       "    </tr>\n",
       "  </thead>\n",
       "  <tbody>\n",
       "    <tr>\n",
       "      <th>count</th>\n",
       "      <td>895.000000</td>\n",
       "      <td>895.000000</td>\n",
       "      <td>409.000000</td>\n",
       "      <td>484.000000</td>\n",
       "      <td>323.000000</td>\n",
       "      <td>733.000000</td>\n",
       "    </tr>\n",
       "    <tr>\n",
       "      <th>mean</th>\n",
       "      <td>36.576802</td>\n",
       "      <td>5.173296</td>\n",
       "      <td>94.574572</td>\n",
       "      <td>69.800155</td>\n",
       "      <td>6.886842</td>\n",
       "      <td>41.151432</td>\n",
       "    </tr>\n",
       "    <tr>\n",
       "      <th>std</th>\n",
       "      <td>14.043696</td>\n",
       "      <td>0.194303</td>\n",
       "      <td>54.945059</td>\n",
       "      <td>36.585455</td>\n",
       "      <td>4.488845</td>\n",
       "      <td>32.636016</td>\n",
       "    </tr>\n",
       "    <tr>\n",
       "      <th>min</th>\n",
       "      <td>7.537500</td>\n",
       "      <td>5.000000</td>\n",
       "      <td>14.000000</td>\n",
       "      <td>18.500000</td>\n",
       "      <td>0.000000</td>\n",
       "      <td>1.000000</td>\n",
       "    </tr>\n",
       "    <tr>\n",
       "      <th>25%</th>\n",
       "      <td>30.000000</td>\n",
       "      <td>5.000000</td>\n",
       "      <td>54.000000</td>\n",
       "      <td>41.000000</td>\n",
       "      <td>3.900000</td>\n",
       "      <td>17.000000</td>\n",
       "    </tr>\n",
       "    <tr>\n",
       "      <th>50%</th>\n",
       "      <td>33.000000</td>\n",
       "      <td>5.100000</td>\n",
       "      <td>83.000000</td>\n",
       "      <td>62.100000</td>\n",
       "      <td>5.400000</td>\n",
       "      <td>30.000000</td>\n",
       "    </tr>\n",
       "    <tr>\n",
       "      <th>75%</th>\n",
       "      <td>44.975000</td>\n",
       "      <td>5.300000</td>\n",
       "      <td>121.000000</td>\n",
       "      <td>90.025000</td>\n",
       "      <td>9.350000</td>\n",
       "      <td>59.000000</td>\n",
       "    </tr>\n",
       "    <tr>\n",
       "      <th>max</th>\n",
       "      <td>67.437500</td>\n",
       "      <td>5.750000</td>\n",
       "      <td>221.500000</td>\n",
       "      <td>163.562500</td>\n",
       "      <td>17.525000</td>\n",
       "      <td>122.000000</td>\n",
       "    </tr>\n",
       "  </tbody>\n",
       "</table>\n",
       "</div>"
      ],
      "text/plain": [
       "            depth         mag         nst         gap  depthError      magNst\n",
       "count  895.000000  895.000000  409.000000  484.000000  323.000000  733.000000\n",
       "mean    36.576802    5.173296   94.574572   69.800155    6.886842   41.151432\n",
       "std     14.043696    0.194303   54.945059   36.585455    4.488845   32.636016\n",
       "min      7.537500    5.000000   14.000000   18.500000    0.000000    1.000000\n",
       "25%     30.000000    5.000000   54.000000   41.000000    3.900000   17.000000\n",
       "50%     33.000000    5.100000   83.000000   62.100000    5.400000   30.000000\n",
       "75%     44.975000    5.300000  121.000000   90.025000    9.350000   59.000000\n",
       "max     67.437500    5.750000  221.500000  163.562500   17.525000  122.000000"
      ]
     },
     "execution_count": 26,
     "metadata": {},
     "output_type": "execute_result"
    }
   ],
   "source": [
    "df[outlier].describe()"
   ]
  },
  {
   "cell_type": "markdown",
   "metadata": {},
   "source": [
    "#### Melakukan penanganan terhadap missing value"
   ]
  },
  {
   "cell_type": "markdown",
   "metadata": {},
   "source": [
    "Menghapus kolom dengan missing value >11%"
   ]
  },
  {
   "cell_type": "code",
   "execution_count": 27,
   "metadata": {},
   "outputs": [],
   "source": [
    "df2 = df.drop(['gap','nst','magNst','depthError','dmin','magError','horizontalError'], axis=1) "
   ]
  },
  {
   "cell_type": "code",
   "execution_count": 28,
   "metadata": {},
   "outputs": [
    {
     "name": "stdout",
     "output_type": "stream",
     "text": [
      "banyak kolom : 15\n",
      "kolom : Index(['time', 'latitude', 'longitude', 'depth', 'mag', 'magType', 'rms',\n",
      "       'net', 'id', 'updated', 'place', 'type', 'status', 'locationSource',\n",
      "       'magSource'],\n",
      "      dtype='object')\n"
     ]
    }
   ],
   "source": [
    "print('banyak kolom :', len(df2.columns))\n",
    "print('kolom :', df2.columns)"
   ]
  },
  {
   "cell_type": "markdown",
   "metadata": {},
   "source": [
    "Mengisi baris yang merupakan missing value "
   ]
  },
  {
   "cell_type": "markdown",
   "metadata": {},
   "source": [
    "- Atribut bertipe numeric yang terdapat missing value akan ditangani dengan imputasi median"
   ]
  },
  {
   "cell_type": "markdown",
   "metadata": {},
   "source": [
    "Memperbarui list atribut bertipe numerik"
   ]
  },
  {
   "cell_type": "code",
   "execution_count": 29,
   "metadata": {},
   "outputs": [
    {
     "data": {
      "text/plain": [
       "['time', 'latitude', 'longitude', 'depth', 'mag', 'rms']"
      ]
     },
     "execution_count": 29,
     "metadata": {},
     "output_type": "execute_result"
    }
   ],
   "source": [
    "#update numerical\n",
    "numerical = [i for i in df2.columns if i not in categorical] \n",
    "numerical"
   ]
  },
  {
   "cell_type": "code",
   "execution_count": 30,
   "metadata": {},
   "outputs": [],
   "source": [
    "for num_col in numerical:\n",
    "    df2[num_col].fillna(df2[num_col].median(),inplace=True)"
   ]
  },
  {
   "cell_type": "code",
   "execution_count": 31,
   "metadata": {},
   "outputs": [
    {
     "data": {
      "text/plain": [
       "time         0\n",
       "latitude     0\n",
       "longitude    0\n",
       "depth        0\n",
       "mag          0\n",
       "rms          0\n",
       "dtype: int64"
      ]
     },
     "execution_count": 31,
     "metadata": {},
     "output_type": "execute_result"
    }
   ],
   "source": [
    "df2[numerical].isnull().sum()"
   ]
  },
  {
   "cell_type": "code",
   "execution_count": 32,
   "metadata": {},
   "outputs": [],
   "source": [
    "for cat_col in categorical:\n",
    "    df2[cat_col].fillna(df2[cat_col].mode()[0],inplace=True)"
   ]
  },
  {
   "cell_type": "code",
   "execution_count": 33,
   "metadata": {},
   "outputs": [
    {
     "data": {
      "text/plain": [
       "time              0\n",
       "latitude          0\n",
       "longitude         0\n",
       "depth             0\n",
       "mag               0\n",
       "magType           0\n",
       "rms               0\n",
       "net               0\n",
       "id                0\n",
       "updated           0\n",
       "place             0\n",
       "type              0\n",
       "status            0\n",
       "locationSource    0\n",
       "magSource         0\n",
       "dtype: int64"
      ]
     },
     "execution_count": 33,
     "metadata": {},
     "output_type": "execute_result"
    }
   ],
   "source": [
    "df2.isnull().sum()"
   ]
  },
  {
   "cell_type": "code",
   "execution_count": 34,
   "metadata": {},
   "outputs": [
    {
     "name": "stdout",
     "output_type": "stream",
     "text": [
      "<class 'pandas.core.frame.DataFrame'>\n",
      "RangeIndex: 895 entries, 0 to 894\n",
      "Data columns (total 15 columns):\n",
      " #   Column          Non-Null Count  Dtype              \n",
      "---  ------          --------------  -----              \n",
      " 0   time            895 non-null    datetime64[ns, UTC]\n",
      " 1   latitude        895 non-null    float64            \n",
      " 2   longitude       895 non-null    float64            \n",
      " 3   depth           895 non-null    float64            \n",
      " 4   mag             895 non-null    float64            \n",
      " 5   magType         895 non-null    object             \n",
      " 6   rms             895 non-null    float64            \n",
      " 7   net             895 non-null    object             \n",
      " 8   id              895 non-null    object             \n",
      " 9   updated         895 non-null    object             \n",
      " 10  place           895 non-null    object             \n",
      " 11  type            895 non-null    object             \n",
      " 12  status          895 non-null    object             \n",
      " 13  locationSource  895 non-null    object             \n",
      " 14  magSource       895 non-null    object             \n",
      "dtypes: datetime64[ns, UTC](1), float64(5), object(9)\n",
      "memory usage: 105.0+ KB\n"
     ]
    }
   ],
   "source": [
    "df2.info()"
   ]
  },
  {
   "cell_type": "markdown",
   "metadata": {},
   "source": [
    "Dataset sudah tidak terdapat missing value"
   ]
  },
  {
   "cell_type": "markdown",
   "metadata": {},
   "source": [
    "## Exploratory Data Analysis"
   ]
  },
  {
   "cell_type": "markdown",
   "metadata": {},
   "source": [
    "### Descriptive Statistics & Query"
   ]
  },
  {
   "cell_type": "markdown",
   "metadata": {},
   "source": [
    "Melihat statistik deskriptif pada data numerik"
   ]
  },
  {
   "cell_type": "code",
   "execution_count": 35,
   "metadata": {},
   "outputs": [
    {
     "data": {
      "text/html": [
       "<div>\n",
       "<style scoped>\n",
       "    .dataframe tbody tr th:only-of-type {\n",
       "        vertical-align: middle;\n",
       "    }\n",
       "\n",
       "    .dataframe tbody tr th {\n",
       "        vertical-align: top;\n",
       "    }\n",
       "\n",
       "    .dataframe thead th {\n",
       "        text-align: right;\n",
       "    }\n",
       "</style>\n",
       "<table border=\"1\" class=\"dataframe\">\n",
       "  <thead>\n",
       "    <tr style=\"text-align: right;\">\n",
       "      <th></th>\n",
       "      <th>latitude</th>\n",
       "      <th>longitude</th>\n",
       "      <th>depth</th>\n",
       "      <th>mag</th>\n",
       "      <th>rms</th>\n",
       "    </tr>\n",
       "  </thead>\n",
       "  <tbody>\n",
       "    <tr>\n",
       "      <th>count</th>\n",
       "      <td>895.000000</td>\n",
       "      <td>895.000000</td>\n",
       "      <td>895.000000</td>\n",
       "      <td>895.000000</td>\n",
       "      <td>895.000000</td>\n",
       "    </tr>\n",
       "    <tr>\n",
       "      <th>mean</th>\n",
       "      <td>-2.218026</td>\n",
       "      <td>100.336492</td>\n",
       "      <td>36.576802</td>\n",
       "      <td>5.173296</td>\n",
       "      <td>0.944045</td>\n",
       "    </tr>\n",
       "    <tr>\n",
       "      <th>std</th>\n",
       "      <td>3.247293</td>\n",
       "      <td>2.767184</td>\n",
       "      <td>14.043696</td>\n",
       "      <td>0.194303</td>\n",
       "      <td>0.179238</td>\n",
       "    </tr>\n",
       "    <tr>\n",
       "      <th>min</th>\n",
       "      <td>-6.598000</td>\n",
       "      <td>95.298200</td>\n",
       "      <td>7.537500</td>\n",
       "      <td>5.000000</td>\n",
       "      <td>0.200000</td>\n",
       "    </tr>\n",
       "    <tr>\n",
       "      <th>25%</th>\n",
       "      <td>-4.899500</td>\n",
       "      <td>97.490500</td>\n",
       "      <td>30.000000</td>\n",
       "      <td>5.000000</td>\n",
       "      <td>0.830000</td>\n",
       "    </tr>\n",
       "    <tr>\n",
       "      <th>50%</th>\n",
       "      <td>-3.161500</td>\n",
       "      <td>100.722000</td>\n",
       "      <td>33.000000</td>\n",
       "      <td>5.100000</td>\n",
       "      <td>0.930000</td>\n",
       "    </tr>\n",
       "    <tr>\n",
       "      <th>75%</th>\n",
       "      <td>0.964500</td>\n",
       "      <td>102.468000</td>\n",
       "      <td>44.975000</td>\n",
       "      <td>5.300000</td>\n",
       "      <td>1.030000</td>\n",
       "    </tr>\n",
       "    <tr>\n",
       "      <th>max</th>\n",
       "      <td>5.375000</td>\n",
       "      <td>105.739000</td>\n",
       "      <td>67.437500</td>\n",
       "      <td>5.750000</td>\n",
       "      <td>1.580000</td>\n",
       "    </tr>\n",
       "  </tbody>\n",
       "</table>\n",
       "</div>"
      ],
      "text/plain": [
       "         latitude   longitude       depth         mag         rms\n",
       "count  895.000000  895.000000  895.000000  895.000000  895.000000\n",
       "mean    -2.218026  100.336492   36.576802    5.173296    0.944045\n",
       "std      3.247293    2.767184   14.043696    0.194303    0.179238\n",
       "min     -6.598000   95.298200    7.537500    5.000000    0.200000\n",
       "25%     -4.899500   97.490500   30.000000    5.000000    0.830000\n",
       "50%     -3.161500  100.722000   33.000000    5.100000    0.930000\n",
       "75%      0.964500  102.468000   44.975000    5.300000    1.030000\n",
       "max      5.375000  105.739000   67.437500    5.750000    1.580000"
      ]
     },
     "execution_count": 35,
     "metadata": {},
     "output_type": "execute_result"
    }
   ],
   "source": [
    "df2.describe()"
   ]
  },
  {
   "cell_type": "markdown",
   "metadata": {},
   "source": [
    "Diperoleh bahwa:\n",
    "- rata-rata depth/kedalaman yaitu 36.57 km\n",
    "- rata-rata magnitudo yaitu 5.173 mb\n",
    "- depth/kedalaman maksimal yaitu 67.4375 dan minimal 7.5375\n",
    "- mag maksimal yaitu 5.75 dan minimal yaitu 5"
   ]
  },
  {
   "cell_type": "markdown",
   "metadata": {},
   "source": [
    "Melihat statistik deskritif pada data kategorik"
   ]
  },
  {
   "cell_type": "code",
   "execution_count": 36,
   "metadata": {
    "scrolled": true
   },
   "outputs": [
    {
     "data": {
      "text/html": [
       "<div>\n",
       "<style scoped>\n",
       "    .dataframe tbody tr th:only-of-type {\n",
       "        vertical-align: middle;\n",
       "    }\n",
       "\n",
       "    .dataframe tbody tr th {\n",
       "        vertical-align: top;\n",
       "    }\n",
       "\n",
       "    .dataframe thead th {\n",
       "        text-align: right;\n",
       "    }\n",
       "</style>\n",
       "<table border=\"1\" class=\"dataframe\">\n",
       "  <thead>\n",
       "    <tr style=\"text-align: right;\">\n",
       "      <th></th>\n",
       "      <th>magType</th>\n",
       "      <th>net</th>\n",
       "      <th>id</th>\n",
       "      <th>updated</th>\n",
       "      <th>place</th>\n",
       "      <th>type</th>\n",
       "      <th>status</th>\n",
       "      <th>locationSource</th>\n",
       "      <th>magSource</th>\n",
       "    </tr>\n",
       "  </thead>\n",
       "  <tbody>\n",
       "    <tr>\n",
       "      <th>count</th>\n",
       "      <td>895</td>\n",
       "      <td>895</td>\n",
       "      <td>895</td>\n",
       "      <td>895</td>\n",
       "      <td>895</td>\n",
       "      <td>895</td>\n",
       "      <td>895</td>\n",
       "      <td>895</td>\n",
       "      <td>895</td>\n",
       "    </tr>\n",
       "    <tr>\n",
       "      <th>unique</th>\n",
       "      <td>1</td>\n",
       "      <td>1</td>\n",
       "      <td>895</td>\n",
       "      <td>876</td>\n",
       "      <td>895</td>\n",
       "      <td>1</td>\n",
       "      <td>1</td>\n",
       "      <td>1</td>\n",
       "      <td>1</td>\n",
       "    </tr>\n",
       "    <tr>\n",
       "      <th>top</th>\n",
       "      <td>mb</td>\n",
       "      <td>us</td>\n",
       "      <td>us6000f1ny</td>\n",
       "      <td>2015-05-13T18:53:53.000Z</td>\n",
       "      <td>164 km SW of Sungai Penuh, Indonesia (1)</td>\n",
       "      <td>earthquake</td>\n",
       "      <td>reviewed</td>\n",
       "      <td>us</td>\n",
       "      <td>us</td>\n",
       "    </tr>\n",
       "    <tr>\n",
       "      <th>freq</th>\n",
       "      <td>895</td>\n",
       "      <td>895</td>\n",
       "      <td>1</td>\n",
       "      <td>6</td>\n",
       "      <td>1</td>\n",
       "      <td>895</td>\n",
       "      <td>895</td>\n",
       "      <td>895</td>\n",
       "      <td>895</td>\n",
       "    </tr>\n",
       "  </tbody>\n",
       "</table>\n",
       "</div>"
      ],
      "text/plain": [
       "       magType  net          id                   updated  \\\n",
       "count      895  895         895                       895   \n",
       "unique       1    1         895                       876   \n",
       "top         mb   us  us6000f1ny  2015-05-13T18:53:53.000Z   \n",
       "freq       895  895           1                         6   \n",
       "\n",
       "                                           place        type    status  \\\n",
       "count                                        895         895       895   \n",
       "unique                                       895           1         1   \n",
       "top     164 km SW of Sungai Penuh, Indonesia (1)  earthquake  reviewed   \n",
       "freq                                           1         895       895   \n",
       "\n",
       "       locationSource magSource  \n",
       "count             895       895  \n",
       "unique              1         1  \n",
       "top                us        us  \n",
       "freq              895       895  "
      ]
     },
     "execution_count": 36,
     "metadata": {},
     "output_type": "execute_result"
    }
   ],
   "source": [
    "df2.describe(include=\"O\")"
   ]
  },
  {
   "cell_type": "markdown",
   "metadata": {},
   "source": [
    "Diperoleh bahwa:\n"
   ]
  },
  {
   "cell_type": "markdown",
   "metadata": {},
   "source": [
    "### Visualization"
   ]
  },
  {
   "cell_type": "code",
   "execution_count": 37,
   "metadata": {},
   "outputs": [
    {
     "data": {
      "image/png": "[encoded data removed]",
      "text/plain": [
       "<Figure size 1296x576 with 1 Axes>"
      ]
     },
     "metadata": {
      "needs_background": "light"
     },
     "output_type": "display_data"
    }
   ],
   "source": [
    "figure = plt.figure(figsize=(18,8))\n",
    "\n",
    "df2[\"depth\"].hist(bins=np.arange(5,60,1))\n",
    "plt.title(\"DEPTH\")\n",
    "plt.tight_layout()"
   ]
  },
  {
   "cell_type": "code",
   "execution_count": 38,
   "metadata": {},
   "outputs": [
    {
     "data": {
      "image/png": "[encoded data removed]",
      "text/plain": [
       "<Figure size 1296x576 with 1 Axes>"
      ]
     },
     "metadata": {
      "needs_background": "light"
     },
     "output_type": "display_data"
    }
   ],
   "source": [
    "figure = plt.figure(figsize=(18,8))\n",
    "\n",
    "df2[\"mag\"].hist(bins=np.arange(5,60,1))\n",
    "plt.title(\"MAGNITUDO\")\n",
    "plt.tight_layout()"
   ]
  },
  {
   "cell_type": "markdown",
   "metadata": {},
   "source": [
    "### Correlation Matrix"
   ]
  },
  {
   "cell_type": "code",
   "execution_count": 39,
   "metadata": {},
   "outputs": [
    {
     "data": {
      "text/html": [
       "<div>\n",
       "<style scoped>\n",
       "    .dataframe tbody tr th:only-of-type {\n",
       "        vertical-align: middle;\n",
       "    }\n",
       "\n",
       "    .dataframe tbody tr th {\n",
       "        vertical-align: top;\n",
       "    }\n",
       "\n",
       "    .dataframe thead th {\n",
       "        text-align: right;\n",
       "    }\n",
       "</style>\n",
       "<table border=\"1\" class=\"dataframe\">\n",
       "  <thead>\n",
       "    <tr style=\"text-align: right;\">\n",
       "      <th></th>\n",
       "      <th>latitude</th>\n",
       "      <th>longitude</th>\n",
       "      <th>depth</th>\n",
       "      <th>mag</th>\n",
       "      <th>rms</th>\n",
       "    </tr>\n",
       "  </thead>\n",
       "  <tbody>\n",
       "    <tr>\n",
       "      <th>latitude</th>\n",
       "      <td>1.000000</td>\n",
       "      <td>-0.943494</td>\n",
       "      <td>-0.122477</td>\n",
       "      <td>-0.010519</td>\n",
       "      <td>-0.261302</td>\n",
       "    </tr>\n",
       "    <tr>\n",
       "      <th>longitude</th>\n",
       "      <td>-0.943494</td>\n",
       "      <td>1.000000</td>\n",
       "      <td>0.251025</td>\n",
       "      <td>0.027380</td>\n",
       "      <td>0.308558</td>\n",
       "    </tr>\n",
       "    <tr>\n",
       "      <th>depth</th>\n",
       "      <td>-0.122477</td>\n",
       "      <td>0.251025</td>\n",
       "      <td>1.000000</td>\n",
       "      <td>0.036252</td>\n",
       "      <td>0.083230</td>\n",
       "    </tr>\n",
       "    <tr>\n",
       "      <th>mag</th>\n",
       "      <td>-0.010519</td>\n",
       "      <td>0.027380</td>\n",
       "      <td>0.036252</td>\n",
       "      <td>1.000000</td>\n",
       "      <td>-0.006996</td>\n",
       "    </tr>\n",
       "    <tr>\n",
       "      <th>rms</th>\n",
       "      <td>-0.261302</td>\n",
       "      <td>0.308558</td>\n",
       "      <td>0.083230</td>\n",
       "      <td>-0.006996</td>\n",
       "      <td>1.000000</td>\n",
       "    </tr>\n",
       "  </tbody>\n",
       "</table>\n",
       "</div>"
      ],
      "text/plain": [
       "           latitude  longitude     depth       mag       rms\n",
       "latitude   1.000000  -0.943494 -0.122477 -0.010519 -0.261302\n",
       "longitude -0.943494   1.000000  0.251025  0.027380  0.308558\n",
       "depth     -0.122477   0.251025  1.000000  0.036252  0.083230\n",
       "mag       -0.010519   0.027380  0.036252  1.000000 -0.006996\n",
       "rms       -0.261302   0.308558  0.083230 -0.006996  1.000000"
      ]
     },
     "execution_count": 39,
     "metadata": {},
     "output_type": "execute_result"
    }
   ],
   "source": [
    "df2.corr()"
   ]
  },
  {
   "cell_type": "markdown",
   "metadata": {},
   "source": [
    "Melakukan visualisasi korelasi antar variabel untuk melihat hubungan"
   ]
  },
  {
   "cell_type": "code",
   "execution_count": 40,
   "metadata": {},
   "outputs": [
    {
     "data": {
      "image/png": "[encoded data removed]",
      "text/plain": [
       "<Figure size 720x720 with 2 Axes>"
      ]
     },
     "metadata": {
      "needs_background": "light"
     },
     "output_type": "display_data"
    }
   ],
   "source": [
    "fig, ax = plt.subplots(figsize=(10,10))\n",
    "cm = sns.heatmap(df2.corr(), linewidths = .5, annot=True, fmt='.2f')"
   ]
  },
  {
   "cell_type": "markdown",
   "metadata": {},
   "source": [
    "Terlihat bahwa terdapat korelasi yang tinggi (>0,8) diantara atribut **latitude** dan **longitude**, yang berarti atribut tsb merepresentasikan informasi yang sama. "
   ]
  },
  {
   "cell_type": "markdown",
   "metadata": {},
   "source": [
    "## Data Preprocessing"
   ]
  },
  {
   "cell_type": "markdown",
   "metadata": {},
   "source": [
    "Memperbarui list atribut bertipe numerik dan kategorik"
   ]
  },
  {
   "cell_type": "code",
   "execution_count": 41,
   "metadata": {},
   "outputs": [
    {
     "name": "stdout",
     "output_type": "stream",
     "text": [
      "categorical : ['magType', 'net', 'id', 'updated', 'place', 'type', 'status', 'locationSource', 'magSource']\n",
      "numerical : ['time', 'latitude', 'longitude', 'depth', 'mag', 'rms']\n"
     ]
    }
   ],
   "source": [
    "categorical = [i for i in df2.columns if df2[i].dtypes == 'O']\n",
    "numerical = [i for i in df2.columns if i not in categorical] \n",
    "print('categorical :', categorical)\n",
    "print('numerical :', numerical)"
   ]
  },
  {
   "cell_type": "markdown",
   "metadata": {},
   "source": [
    "## Feature Selection"
   ]
  },
  {
   "cell_type": "markdown",
   "metadata": {},
   "source": [
    "Bagian ini berisi proses penyiapan data untuk proses pelatihan model,\n",
    "seperti pembagian data menjadi train-dev-test, transformasi data\n",
    "(normalisasi, encoding, dll.), dan proses-proses lain yang dibutuhkan."
   ]
  },
  {
   "cell_type": "code",
   "execution_count": 42,
   "metadata": {},
   "outputs": [
    {
     "data": {
      "text/html": [
       "<div>\n",
       "<style scoped>\n",
       "    .dataframe tbody tr th:only-of-type {\n",
       "        vertical-align: middle;\n",
       "    }\n",
       "\n",
       "    .dataframe tbody tr th {\n",
       "        vertical-align: top;\n",
       "    }\n",
       "\n",
       "    .dataframe thead th {\n",
       "        text-align: right;\n",
       "    }\n",
       "</style>\n",
       "<table border=\"1\" class=\"dataframe\">\n",
       "  <thead>\n",
       "    <tr style=\"text-align: right;\">\n",
       "      <th></th>\n",
       "      <th>time</th>\n",
       "      <th>latitude</th>\n",
       "      <th>longitude</th>\n",
       "      <th>depth</th>\n",
       "      <th>mag</th>\n",
       "      <th>magType</th>\n",
       "      <th>rms</th>\n",
       "      <th>net</th>\n",
       "      <th>id</th>\n",
       "      <th>updated</th>\n",
       "      <th>place</th>\n",
       "      <th>type</th>\n",
       "      <th>status</th>\n",
       "      <th>locationSource</th>\n",
       "      <th>magSource</th>\n",
       "    </tr>\n",
       "  </thead>\n",
       "  <tbody>\n",
       "    <tr>\n",
       "      <th>0</th>\n",
       "      <td>2021-08-02 23:01:01.149000+00:00</td>\n",
       "      <td>-3.1615</td>\n",
       "      <td>100.4063</td>\n",
       "      <td>10.00</td>\n",
       "      <td>5.2</td>\n",
       "      <td>mb</td>\n",
       "      <td>0.87</td>\n",
       "      <td>us</td>\n",
       "      <td>us6000f1ny</td>\n",
       "      <td>2021-10-14T01:05:55.040Z</td>\n",
       "      <td>164 km SW of Sungai Penuh, Indonesia (1)</td>\n",
       "      <td>earthquake</td>\n",
       "      <td>reviewed</td>\n",
       "      <td>us</td>\n",
       "      <td>us</td>\n",
       "    </tr>\n",
       "    <tr>\n",
       "      <th>1</th>\n",
       "      <td>2021-07-10 02:41:09.501000+00:00</td>\n",
       "      <td>1.8228</td>\n",
       "      <td>96.9785</td>\n",
       "      <td>17.35</td>\n",
       "      <td>5.4</td>\n",
       "      <td>mb</td>\n",
       "      <td>0.87</td>\n",
       "      <td>us</td>\n",
       "      <td>us6000etz0</td>\n",
       "      <td>2021-09-17T22:49:15.040Z</td>\n",
       "      <td>98 km SE of Sinabang, Indonesia</td>\n",
       "      <td>earthquake</td>\n",
       "      <td>reviewed</td>\n",
       "      <td>us</td>\n",
       "      <td>us</td>\n",
       "    </tr>\n",
       "    <tr>\n",
       "      <th>2</th>\n",
       "      <td>2021-06-27 15:56:12.192000+00:00</td>\n",
       "      <td>-2.8938</td>\n",
       "      <td>101.0849</td>\n",
       "      <td>40.30</td>\n",
       "      <td>5.1</td>\n",
       "      <td>mb</td>\n",
       "      <td>0.62</td>\n",
       "      <td>us</td>\n",
       "      <td>us6000eq9y</td>\n",
       "      <td>2021-09-09T22:05:24.040Z</td>\n",
       "      <td>98 km SSW of Sungai Penuh, Indonesia (1)</td>\n",
       "      <td>earthquake</td>\n",
       "      <td>reviewed</td>\n",
       "      <td>us</td>\n",
       "      <td>us</td>\n",
       "    </tr>\n",
       "    <tr>\n",
       "      <th>3</th>\n",
       "      <td>2021-06-19 21:12:15.554000+00:00</td>\n",
       "      <td>-4.5600</td>\n",
       "      <td>102.6323</td>\n",
       "      <td>56.20</td>\n",
       "      <td>5.2</td>\n",
       "      <td>mb</td>\n",
       "      <td>0.57</td>\n",
       "      <td>us</td>\n",
       "      <td>us7000eehm</td>\n",
       "      <td>2021-08-27T18:57:39.040Z</td>\n",
       "      <td>90 km SW of Pagar Alam, Indonesia (1)</td>\n",
       "      <td>earthquake</td>\n",
       "      <td>reviewed</td>\n",
       "      <td>us</td>\n",
       "      <td>us</td>\n",
       "    </tr>\n",
       "    <tr>\n",
       "      <th>4</th>\n",
       "      <td>2021-06-15 14:16:14.774000+00:00</td>\n",
       "      <td>-4.2753</td>\n",
       "      <td>102.4086</td>\n",
       "      <td>61.49</td>\n",
       "      <td>5.2</td>\n",
       "      <td>mb</td>\n",
       "      <td>0.66</td>\n",
       "      <td>us</td>\n",
       "      <td>us7000ed89</td>\n",
       "      <td>2021-08-26T21:59:23.040Z</td>\n",
       "      <td>54 km SSE of Bengkulu, Indonesia</td>\n",
       "      <td>earthquake</td>\n",
       "      <td>reviewed</td>\n",
       "      <td>us</td>\n",
       "      <td>us</td>\n",
       "    </tr>\n",
       "  </tbody>\n",
       "</table>\n",
       "</div>"
      ],
      "text/plain": [
       "                              time  latitude  longitude  depth  mag magType  \\\n",
       "0 2021-08-02 23:01:01.149000+00:00   -3.1615   100.4063  10.00  5.2      mb   \n",
       "1 2021-07-10 02:41:09.501000+00:00    1.8228    96.9785  17.35  5.4      mb   \n",
       "2 2021-06-27 15:56:12.192000+00:00   -2.8938   101.0849  40.30  5.1      mb   \n",
       "3 2021-06-19 21:12:15.554000+00:00   -4.5600   102.6323  56.20  5.2      mb   \n",
       "4 2021-06-15 14:16:14.774000+00:00   -4.2753   102.4086  61.49  5.2      mb   \n",
       "\n",
       "    rms net          id                   updated  \\\n",
       "0  0.87  us  us6000f1ny  2021-10-14T01:05:55.040Z   \n",
       "1  0.87  us  us6000etz0  2021-09-17T22:49:15.040Z   \n",
       "2  0.62  us  us6000eq9y  2021-09-09T22:05:24.040Z   \n",
       "3  0.57  us  us7000eehm  2021-08-27T18:57:39.040Z   \n",
       "4  0.66  us  us7000ed89  2021-08-26T21:59:23.040Z   \n",
       "\n",
       "                                      place        type    status  \\\n",
       "0  164 km SW of Sungai Penuh, Indonesia (1)  earthquake  reviewed   \n",
       "1           98 km SE of Sinabang, Indonesia  earthquake  reviewed   \n",
       "2  98 km SSW of Sungai Penuh, Indonesia (1)  earthquake  reviewed   \n",
       "3     90 km SW of Pagar Alam, Indonesia (1)  earthquake  reviewed   \n",
       "4          54 km SSE of Bengkulu, Indonesia  earthquake  reviewed   \n",
       "\n",
       "  locationSource magSource  \n",
       "0             us        us  \n",
       "1             us        us  \n",
       "2             us        us  \n",
       "3             us        us  \n",
       "4             us        us  "
      ]
     },
     "execution_count": 42,
     "metadata": {},
     "output_type": "execute_result"
    }
   ],
   "source": [
    "df2.head()"
   ]
  },
  {
   "cell_type": "code",
   "execution_count": 43,
   "metadata": {},
   "outputs": [],
   "source": [
    "X = df2[['depth','mag']]"
   ]
  },
  {
   "cell_type": "code",
   "execution_count": 44,
   "metadata": {},
   "outputs": [
    {
     "data": {
      "text/html": [
       "<div>\n",
       "<style scoped>\n",
       "    .dataframe tbody tr th:only-of-type {\n",
       "        vertical-align: middle;\n",
       "    }\n",
       "\n",
       "    .dataframe tbody tr th {\n",
       "        vertical-align: top;\n",
       "    }\n",
       "\n",
       "    .dataframe thead th {\n",
       "        text-align: right;\n",
       "    }\n",
       "</style>\n",
       "<table border=\"1\" class=\"dataframe\">\n",
       "  <thead>\n",
       "    <tr style=\"text-align: right;\">\n",
       "      <th></th>\n",
       "      <th>depth</th>\n",
       "      <th>mag</th>\n",
       "    </tr>\n",
       "  </thead>\n",
       "  <tbody>\n",
       "    <tr>\n",
       "      <th>0</th>\n",
       "      <td>10.00</td>\n",
       "      <td>5.2</td>\n",
       "    </tr>\n",
       "    <tr>\n",
       "      <th>1</th>\n",
       "      <td>17.35</td>\n",
       "      <td>5.4</td>\n",
       "    </tr>\n",
       "    <tr>\n",
       "      <th>2</th>\n",
       "      <td>40.30</td>\n",
       "      <td>5.1</td>\n",
       "    </tr>\n",
       "    <tr>\n",
       "      <th>3</th>\n",
       "      <td>56.20</td>\n",
       "      <td>5.2</td>\n",
       "    </tr>\n",
       "    <tr>\n",
       "      <th>4</th>\n",
       "      <td>61.49</td>\n",
       "      <td>5.2</td>\n",
       "    </tr>\n",
       "  </tbody>\n",
       "</table>\n",
       "</div>"
      ],
      "text/plain": [
       "   depth  mag\n",
       "0  10.00  5.2\n",
       "1  17.35  5.4\n",
       "2  40.30  5.1\n",
       "3  56.20  5.2\n",
       "4  61.49  5.2"
      ]
     },
     "execution_count": 44,
     "metadata": {},
     "output_type": "execute_result"
    }
   ],
   "source": [
    "X.head()"
   ]
  },
  {
   "cell_type": "code",
   "execution_count": 45,
   "metadata": {},
   "outputs": [
    {
     "data": {
      "text/plain": [
       "(895, 2)"
      ]
     },
     "execution_count": 45,
     "metadata": {},
     "output_type": "execute_result"
    }
   ],
   "source": [
    "X.shape"
   ]
  },
  {
   "cell_type": "markdown",
   "metadata": {},
   "source": [
    "Memiliki 895 baris dan 2 atribut."
   ]
  },
  {
   "cell_type": "markdown",
   "metadata": {},
   "source": [
    "## Feature Scaling"
   ]
  },
  {
   "cell_type": "markdown",
   "metadata": {},
   "source": [
    "Melakukan scaling/standarisasi data menggunakan StandarScaler"
   ]
  },
  {
   "cell_type": "code",
   "execution_count": 46,
   "metadata": {},
   "outputs": [
    {
     "name": "stdout",
     "output_type": "stream",
     "text": [
      "[[-1.89349455  0.1375112 ]\n",
      " [-1.36983541  1.16740678]\n",
      " [ 0.26526351 -0.37743659]\n",
      " ...\n",
      " [ 0.95635107  0.1375112 ]\n",
      " [ 2.19870565  2.71225015]\n",
      " [-0.25483331 -0.89238438]]\n"
     ]
    }
   ],
   "source": [
    "scaler = StandardScaler()\n",
    "X_scaled = scaler.fit_transform(X)\n",
    "print(X_scaled)"
   ]
  },
  {
   "cell_type": "code",
   "execution_count": 47,
   "metadata": {},
   "outputs": [
    {
     "data": {
      "text/html": [
       "<div>\n",
       "<style scoped>\n",
       "    .dataframe tbody tr th:only-of-type {\n",
       "        vertical-align: middle;\n",
       "    }\n",
       "\n",
       "    .dataframe tbody tr th {\n",
       "        vertical-align: top;\n",
       "    }\n",
       "\n",
       "    .dataframe thead th {\n",
       "        text-align: right;\n",
       "    }\n",
       "</style>\n",
       "<table border=\"1\" class=\"dataframe\">\n",
       "  <thead>\n",
       "    <tr style=\"text-align: right;\">\n",
       "      <th></th>\n",
       "      <th>depth</th>\n",
       "      <th>mag</th>\n",
       "    </tr>\n",
       "  </thead>\n",
       "  <tbody>\n",
       "    <tr>\n",
       "      <th>0</th>\n",
       "      <td>-1.893495</td>\n",
       "      <td>0.137511</td>\n",
       "    </tr>\n",
       "    <tr>\n",
       "      <th>1</th>\n",
       "      <td>-1.369835</td>\n",
       "      <td>1.167407</td>\n",
       "    </tr>\n",
       "    <tr>\n",
       "      <th>2</th>\n",
       "      <td>0.265264</td>\n",
       "      <td>-0.377437</td>\n",
       "    </tr>\n",
       "    <tr>\n",
       "      <th>3</th>\n",
       "      <td>1.398077</td>\n",
       "      <td>0.137511</td>\n",
       "    </tr>\n",
       "    <tr>\n",
       "      <th>4</th>\n",
       "      <td>1.774969</td>\n",
       "      <td>0.137511</td>\n",
       "    </tr>\n",
       "  </tbody>\n",
       "</table>\n",
       "</div>"
      ],
      "text/plain": [
       "      depth       mag\n",
       "0 -1.893495  0.137511\n",
       "1 -1.369835  1.167407\n",
       "2  0.265264 -0.377437\n",
       "3  1.398077  0.137511\n",
       "4  1.774969  0.137511"
      ]
     },
     "execution_count": 47,
     "metadata": {},
     "output_type": "execute_result"
    }
   ],
   "source": [
    "scaled_df = pd.DataFrame(X_scaled, columns=X.columns)\n",
    "scaled_df.head()"
   ]
  },
  {
   "cell_type": "code",
   "execution_count": 48,
   "metadata": {},
   "outputs": [
    {
     "data": {
      "text/html": [
       "<div>\n",
       "<style scoped>\n",
       "    .dataframe tbody tr th:only-of-type {\n",
       "        vertical-align: middle;\n",
       "    }\n",
       "\n",
       "    .dataframe tbody tr th {\n",
       "        vertical-align: top;\n",
       "    }\n",
       "\n",
       "    .dataframe thead th {\n",
       "        text-align: right;\n",
       "    }\n",
       "</style>\n",
       "<table border=\"1\" class=\"dataframe\">\n",
       "  <thead>\n",
       "    <tr style=\"text-align: right;\">\n",
       "      <th></th>\n",
       "      <th>0</th>\n",
       "      <th>1</th>\n",
       "    </tr>\n",
       "  </thead>\n",
       "  <tbody>\n",
       "    <tr>\n",
       "      <th>count</th>\n",
       "      <td>8.950000e+02</td>\n",
       "      <td>8.950000e+02</td>\n",
       "    </tr>\n",
       "    <tr>\n",
       "      <th>mean</th>\n",
       "      <td>-1.016257e-15</td>\n",
       "      <td>-3.692763e-15</td>\n",
       "    </tr>\n",
       "    <tr>\n",
       "      <th>std</th>\n",
       "      <td>1.000559e+00</td>\n",
       "      <td>1.000559e+00</td>\n",
       "    </tr>\n",
       "    <tr>\n",
       "      <th>min</th>\n",
       "      <td>-2.068938e+00</td>\n",
       "      <td>-8.923844e-01</td>\n",
       "    </tr>\n",
       "    <tr>\n",
       "      <th>25%</th>\n",
       "      <td>-4.685717e-01</td>\n",
       "      <td>-8.923844e-01</td>\n",
       "    </tr>\n",
       "    <tr>\n",
       "      <th>50%</th>\n",
       "      <td>-2.548333e-01</td>\n",
       "      <td>-3.774366e-01</td>\n",
       "    </tr>\n",
       "    <tr>\n",
       "      <th>75%</th>\n",
       "      <td>5.983392e-01</td>\n",
       "      <td>6.524590e-01</td>\n",
       "    </tr>\n",
       "    <tr>\n",
       "      <th>max</th>\n",
       "      <td>2.198706e+00</td>\n",
       "      <td>2.969724e+00</td>\n",
       "    </tr>\n",
       "  </tbody>\n",
       "</table>\n",
       "</div>"
      ],
      "text/plain": [
       "                  0             1\n",
       "count  8.950000e+02  8.950000e+02\n",
       "mean  -1.016257e-15 -3.692763e-15\n",
       "std    1.000559e+00  1.000559e+00\n",
       "min   -2.068938e+00 -8.923844e-01\n",
       "25%   -4.685717e-01 -8.923844e-01\n",
       "50%   -2.548333e-01 -3.774366e-01\n",
       "75%    5.983392e-01  6.524590e-01\n",
       "max    2.198706e+00  2.969724e+00"
      ]
     },
     "execution_count": 48,
     "metadata": {},
     "output_type": "execute_result"
    }
   ],
   "source": [
    "pd.DataFrame(X_scaled).describe()"
   ]
  },
  {
   "cell_type": "markdown",
   "metadata": {},
   "source": [
    "## Clustering"
   ]
  },
  {
   "cell_type": "markdown",
   "metadata": {},
   "source": [
    "Bagian ini berisi cell untuk mendefinisikan model sampai kompilasi model."
   ]
  },
  {
   "cell_type": "markdown",
   "metadata": {},
   "source": [
    "### Menentukan Jumlah Klaster Optimal menggunakan Metode Kurva Elbow"
   ]
  },
  {
   "cell_type": "code",
   "execution_count": 49,
   "metadata": {},
   "outputs": [
    {
     "data": {
      "text/html": [
       "<div>\n",
       "<style scoped>\n",
       "    .dataframe tbody tr th:only-of-type {\n",
       "        vertical-align: middle;\n",
       "    }\n",
       "\n",
       "    .dataframe tbody tr th {\n",
       "        vertical-align: top;\n",
       "    }\n",
       "\n",
       "    .dataframe thead th {\n",
       "        text-align: right;\n",
       "    }\n",
       "</style>\n",
       "<table border=\"1\" class=\"dataframe\">\n",
       "  <thead>\n",
       "    <tr style=\"text-align: right;\">\n",
       "      <th></th>\n",
       "      <th>Inertia</th>\n",
       "    </tr>\n",
       "  </thead>\n",
       "  <tbody>\n",
       "    <tr>\n",
       "      <th>1</th>\n",
       "      <td>1790.000000</td>\n",
       "    </tr>\n",
       "    <tr>\n",
       "      <th>2</th>\n",
       "      <td>1156.598480</td>\n",
       "    </tr>\n",
       "    <tr>\n",
       "      <th>3</th>\n",
       "      <td>665.292150</td>\n",
       "    </tr>\n",
       "    <tr>\n",
       "      <th>4</th>\n",
       "      <td>512.850203</td>\n",
       "    </tr>\n",
       "    <tr>\n",
       "      <th>5</th>\n",
       "      <td>387.867177</td>\n",
       "    </tr>\n",
       "    <tr>\n",
       "      <th>6</th>\n",
       "      <td>298.590486</td>\n",
       "    </tr>\n",
       "    <tr>\n",
       "      <th>7</th>\n",
       "      <td>260.022091</td>\n",
       "    </tr>\n",
       "    <tr>\n",
       "      <th>8</th>\n",
       "      <td>227.817807</td>\n",
       "    </tr>\n",
       "    <tr>\n",
       "      <th>9</th>\n",
       "      <td>198.685781</td>\n",
       "    </tr>\n",
       "  </tbody>\n",
       "</table>\n",
       "</div>"
      ],
      "text/plain": [
       "       Inertia\n",
       "1  1790.000000\n",
       "2  1156.598480\n",
       "3   665.292150\n",
       "4   512.850203\n",
       "5   387.867177\n",
       "6   298.590486\n",
       "7   260.022091\n",
       "8   227.817807\n",
       "9   198.685781"
      ]
     },
     "execution_count": 49,
     "metadata": {},
     "output_type": "execute_result"
    }
   ],
   "source": [
    "inertia = []\n",
    "\n",
    "for i in range(1, 10):\n",
    "    model = KMeans(n_clusters=i, random_state=42)\n",
    "    model.fit(X_scaled)\n",
    "    inertia.append(model.inertia_)\n",
    "    \n",
    "inertia_df = pd.DataFrame({'Inertia':inertia}, index=[i for i in range(1, 10)])\n",
    "inertia_df"
   ]
  },
  {
   "cell_type": "code",
   "execution_count": 50,
   "metadata": {},
   "outputs": [
    {
     "data": {
      "text/plain": [
       "Text(0, 0.5, 'Intertia')"
      ]
     },
     "execution_count": 50,
     "metadata": {},
     "output_type": "execute_result"
    },
    {
     "data": {
      "image/png": "[encoded data removed]",
      "text/plain": [
       "<Figure size 432x288 with 1 Axes>"
      ]
     },
     "metadata": {
      "needs_background": "light"
     },
     "output_type": "display_data"
    }
   ],
   "source": [
    "# fitting multiple k-means algorithms and storing the values in an empty list \n",
    "SSE = []\n",
    "for cluster in range(1,10):\n",
    "    kmeans = KMeans( n_clusters = cluster, init='k-means++')\n",
    "    kmeans.fit(X_scaled)\n",
    "    SSE.append(kmeans.inertia_)\n",
    "\n",
    "# Converting the results into a dataframe and plotting them\n",
    "frame = pd.DataFrame({'Cluster':range(1,10), 'SSE':SSE})\n",
    "plt.figure()\n",
    "plt.plot(frame['Cluster'], frame['SSE'], marker='o')\n",
    "plt.xlabel('Number of clusters')\n",
    "plt.ylabel('Intertia')"
   ]
  },
  {
   "cell_type": "markdown",
   "metadata": {},
   "source": [
    "Nilai inertia menunjukkan bahwa k kluster yang dapat dipilih yakni 3 kluster."
   ]
  },
  {
   "cell_type": "markdown",
   "metadata": {},
   "source": [
    "### K-Means"
   ]
  },
  {
   "cell_type": "markdown",
   "metadata": {},
   "source": [
    "Metode clustering yang pertama adalah metode K-Means."
   ]
  },
  {
   "cell_type": "code",
   "execution_count": 51,
   "metadata": {},
   "outputs": [
    {
     "data": {
      "text/plain": [
       "KMeans(n_clusters=3)"
      ]
     },
     "execution_count": 51,
     "metadata": {},
     "output_type": "execute_result"
    }
   ],
   "source": [
    "Kmean = KMeans(n_clusters=3)\n",
    "Kmean.fit(X_scaled)"
   ]
  },
  {
   "cell_type": "code",
   "execution_count": 52,
   "metadata": {},
   "outputs": [
    {
     "data": {
      "text/plain": [
       "array([[ 1.39291526, -0.24744977],\n",
       "       [-0.12572687,  1.54413174],\n",
       "       [-0.52715919, -0.48579234]])"
      ]
     },
     "execution_count": 52,
     "metadata": {},
     "output_type": "execute_result"
    }
   ],
   "source": [
    "Kmean.cluster_centers_"
   ]
  },
  {
   "cell_type": "code",
   "execution_count": 53,
   "metadata": {},
   "outputs": [
    {
     "data": {
      "text/plain": [
       "665.2423410329975"
      ]
     },
     "execution_count": 53,
     "metadata": {},
     "output_type": "execute_result"
    }
   ],
   "source": [
    "Kmean.inertia_"
   ]
  },
  {
   "cell_type": "code",
   "execution_count": 54,
   "metadata": {},
   "outputs": [
    {
     "name": "stderr",
     "output_type": "stream",
     "text": [
      "C:\\Users\\Hp\\anaconda3\\lib\\site-packages\\sklearn\\cluster\\_kmeans.py:792: FutureWarning: 'n_jobs' was deprecated in version 0.23 and will be removed in 1.0 (renaming of 0.25).\n",
      "  warnings.warn(\"'n_jobs' was deprecated in version 0.23 and will be\"\n",
      "C:\\Users\\Hp\\anaconda3\\lib\\site-packages\\sklearn\\cluster\\_kmeans.py:792: FutureWarning: 'n_jobs' was deprecated in version 0.23 and will be removed in 1.0 (renaming of 0.25).\n",
      "  warnings.warn(\"'n_jobs' was deprecated in version 0.23 and will be\"\n",
      "C:\\Users\\Hp\\anaconda3\\lib\\site-packages\\sklearn\\cluster\\_kmeans.py:792: FutureWarning: 'n_jobs' was deprecated in version 0.23 and will be removed in 1.0 (renaming of 0.25).\n",
      "  warnings.warn(\"'n_jobs' was deprecated in version 0.23 and will be\"\n",
      "C:\\Users\\Hp\\anaconda3\\lib\\site-packages\\sklearn\\cluster\\_kmeans.py:792: FutureWarning: 'n_jobs' was deprecated in version 0.23 and will be removed in 1.0 (renaming of 0.25).\n",
      "  warnings.warn(\"'n_jobs' was deprecated in version 0.23 and will be\"\n",
      "C:\\Users\\Hp\\anaconda3\\lib\\site-packages\\sklearn\\cluster\\_kmeans.py:792: FutureWarning: 'n_jobs' was deprecated in version 0.23 and will be removed in 1.0 (renaming of 0.25).\n",
      "  warnings.warn(\"'n_jobs' was deprecated in version 0.23 and will be\"\n",
      "C:\\Users\\Hp\\anaconda3\\lib\\site-packages\\sklearn\\cluster\\_kmeans.py:792: FutureWarning: 'n_jobs' was deprecated in version 0.23 and will be removed in 1.0 (renaming of 0.25).\n",
      "  warnings.warn(\"'n_jobs' was deprecated in version 0.23 and will be\"\n",
      "C:\\Users\\Hp\\anaconda3\\lib\\site-packages\\sklearn\\cluster\\_kmeans.py:792: FutureWarning: 'n_jobs' was deprecated in version 0.23 and will be removed in 1.0 (renaming of 0.25).\n",
      "  warnings.warn(\"'n_jobs' was deprecated in version 0.23 and will be\"\n",
      "C:\\Users\\Hp\\anaconda3\\lib\\site-packages\\sklearn\\cluster\\_kmeans.py:792: FutureWarning: 'n_jobs' was deprecated in version 0.23 and will be removed in 1.0 (renaming of 0.25).\n",
      "  warnings.warn(\"'n_jobs' was deprecated in version 0.23 and will be\"\n",
      "C:\\Users\\Hp\\anaconda3\\lib\\site-packages\\sklearn\\cluster\\_kmeans.py:792: FutureWarning: 'n_jobs' was deprecated in version 0.23 and will be removed in 1.0 (renaming of 0.25).\n",
      "  warnings.warn(\"'n_jobs' was deprecated in version 0.23 and will be\"\n",
      "C:\\Users\\Hp\\anaconda3\\lib\\site-packages\\sklearn\\cluster\\_kmeans.py:792: FutureWarning: 'n_jobs' was deprecated in version 0.23 and will be removed in 1.0 (renaming of 0.25).\n",
      "  warnings.warn(\"'n_jobs' was deprecated in version 0.23 and will be\"\n",
      "C:\\Users\\Hp\\anaconda3\\lib\\site-packages\\sklearn\\cluster\\_kmeans.py:792: FutureWarning: 'n_jobs' was deprecated in version 0.23 and will be removed in 1.0 (renaming of 0.25).\n",
      "  warnings.warn(\"'n_jobs' was deprecated in version 0.23 and will be\"\n",
      "C:\\Users\\Hp\\anaconda3\\lib\\site-packages\\sklearn\\cluster\\_kmeans.py:792: FutureWarning: 'n_jobs' was deprecated in version 0.23 and will be removed in 1.0 (renaming of 0.25).\n",
      "  warnings.warn(\"'n_jobs' was deprecated in version 0.23 and will be\"\n",
      "C:\\Users\\Hp\\anaconda3\\lib\\site-packages\\sklearn\\cluster\\_kmeans.py:792: FutureWarning: 'n_jobs' was deprecated in version 0.23 and will be removed in 1.0 (renaming of 0.25).\n",
      "  warnings.warn(\"'n_jobs' was deprecated in version 0.23 and will be\"\n",
      "C:\\Users\\Hp\\anaconda3\\lib\\site-packages\\sklearn\\cluster\\_kmeans.py:792: FutureWarning: 'n_jobs' was deprecated in version 0.23 and will be removed in 1.0 (renaming of 0.25).\n",
      "  warnings.warn(\"'n_jobs' was deprecated in version 0.23 and will be\"\n",
      "C:\\Users\\Hp\\anaconda3\\lib\\site-packages\\sklearn\\cluster\\_kmeans.py:792: FutureWarning: 'n_jobs' was deprecated in version 0.23 and will be removed in 1.0 (renaming of 0.25).\n",
      "  warnings.warn(\"'n_jobs' was deprecated in version 0.23 and will be\"\n",
      "C:\\Users\\Hp\\anaconda3\\lib\\site-packages\\sklearn\\cluster\\_kmeans.py:792: FutureWarning: 'n_jobs' was deprecated in version 0.23 and will be removed in 1.0 (renaming of 0.25).\n",
      "  warnings.warn(\"'n_jobs' was deprecated in version 0.23 and will be\"\n",
      "C:\\Users\\Hp\\anaconda3\\lib\\site-packages\\sklearn\\cluster\\_kmeans.py:792: FutureWarning: 'n_jobs' was deprecated in version 0.23 and will be removed in 1.0 (renaming of 0.25).\n",
      "  warnings.warn(\"'n_jobs' was deprecated in version 0.23 and will be\"\n",
      "C:\\Users\\Hp\\anaconda3\\lib\\site-packages\\sklearn\\cluster\\_kmeans.py:792: FutureWarning: 'n_jobs' was deprecated in version 0.23 and will be removed in 1.0 (renaming of 0.25).\n",
      "  warnings.warn(\"'n_jobs' was deprecated in version 0.23 and will be\"\n",
      "C:\\Users\\Hp\\anaconda3\\lib\\site-packages\\sklearn\\cluster\\_kmeans.py:792: FutureWarning: 'n_jobs' was deprecated in version 0.23 and will be removed in 1.0 (renaming of 0.25).\n",
      "  warnings.warn(\"'n_jobs' was deprecated in version 0.23 and will be\"\n"
     ]
    },
    {
     "name": "stdout",
     "output_type": "stream",
     "text": [
      "[80.30552278905549]\n"
     ]
    }
   ],
   "source": [
    "# fitting multiple k-means algorithms and storing the values in an empty list\n",
    "SSE = []\n",
    "for cluster in range(1,20):\n",
    "  kmeans = KMeans(n_jobs = -1, n_clusters = cluster, init='k-means++')\n",
    "  kmeans.fit(X_scaled)\n",
    "SSE.append(kmeans.inertia_)\n",
    "print(SSE)"
   ]
  },
  {
   "cell_type": "code",
   "execution_count": 55,
   "metadata": {},
   "outputs": [],
   "source": [
    "pred = Kmean.predict(X_scaled)"
   ]
  },
  {
   "cell_type": "code",
   "execution_count": 56,
   "metadata": {},
   "outputs": [
    {
     "name": "stdout",
     "output_type": "stream",
     "text": [
      "[2 1 2 0 0 0 2 2 0 0 2 2 2 2 0 2 2 0 2 2 2 2 0 2 2 0 2 2 2 2 2 0 2 0 2 2 2\n",
      " 2 0 2 2 2 0 2 1 2 0 2 2 2 2 0 2 0 0 1 2 2 2 2 2 1 1 0 2 0 0 0 2 0 2 0 0 0\n",
      " 0 0 2 0 0 0 0 1 2 0 2 1 2 0 2 1 2 2 0 0 0 0 2 2 2 2 2 2 2 2 2 0 0 2 1 2 1\n",
      " 2 0 1 0 0 2 0 0 2 1 0 2 0 2 1 2 0 2 2 2 0 1 1 2 2 0 2 0 2 2 1 2 0 2 0 1 2\n",
      " 2 2 2 0 2 0 0 2 2 0 2 2 1 0 0 0 0 2 0 2 2 2 0 2 2 2 2 2 2 2 2 2 0 0 2 2 0\n",
      " 2 2 0 0 1 2 0 2 2 2 2 2 2 2 2 1 2 2 2 1 2 2 2 0 0 2 2 1 1 0 2 1 0 0 2 2 2\n",
      " 2 2 1 2 2 1 2 0 0 2 2 2 2 0 2 0 2 2 2 1 2 2 2 2 1 0 2 0 2 2 2 2 2 2 2 0 0\n",
      " 0 2 2 0 0 2 2 1 2 1 1 2 2 1 2 2 1 2 2 2 2 1 2 2 1 1 1 2 2 2 2 2 2 0 2 2 0\n",
      " 1 2 1 2 2 2 2 2 2 2 2 2 2 2 2 2 2 2 2 2 2 2 2 2 2 2 1 2 2 2 2 1 2 2 2 1 2\n",
      " 2 2 2 1 2 2 1 2 2 2 1 2 2 2 2 2 2 2 1 2 1 0 2 1 2 2 1 1 2 2 2 2 2 0 2 0 2\n",
      " 2 1 0 2 2 2 2 0 2 2 2 2 1 2 0 2 1 2 2 1 2 2 2 0 0 2 2 2 1 2 2 2 2 2 2 2 2\n",
      " 2 1 2 2 2 2 2 2 2 1 2 2 1 1 2 2 2 2 2 2 2 2 2 1 2 2 2 1 2 2 2 2 1 1 1 2 2\n",
      " 2 2 1 2 2 1 2 1 1 2 1 2 1 2 2 2 2 2 1 1 1 2 2 1 1 1 2 2 1 0 1 1 1 0 2 2 2\n",
      " 2 2 2 1 0 1 2 2 2 2 2 2 2 2 2 2 2 2 2 2 0 0 2 0 2 2 2 2 2 2 1 2 2 1 1 0 2\n",
      " 2 2 2 2 2 2 2 2 2 2 2 2 2 2 2 2 2 2 2 2 1 2 2 2 2 2 1 1 2 2 2 2 2 2 2 1 2\n",
      " 2 2 2 2 2 0 0 2 2 2 2 2 2 2 2 2 2 2 2 0 0 1 2 2 0 1 1 0 0 2 1 2 2 1 2 2 2\n",
      " 2 0 2 0 0 2 0 0 0 2 1 2 0 0 1 2 1 0 0 2 2 0 2 2 2 2 2 0 1 2 0 2 2 0 1 1 1\n",
      " 0 0 0 0 2 0 0 0 2 0 0 2 1 0 2 2 2 1 0 0 2 2 2 2 0 0 0 0 0 0 0 2 2 0 0 2 0\n",
      " 2 0 2 2 1 1 2 2 2 0 2 2 0 2 2 0 1 0 0 2 0 0 2 2 2 1 2 2 2 0 1 0 0 2 0 0 1\n",
      " 0 0 1 2 1 2 1 1 2 0 1 1 2 0 1 1 1 0 1 0 0 0 1 1 2 2 1 2 0 0 0 0 2 0 0 2 2\n",
      " 0 1 1 2 0 1 2 0 1 0 0 0 2 0 1 1 2 0 2 0 2 2 2 1 1 1 2 1 1 2 1 1 1 0 0 1 1\n",
      " 1 2 2 1 2 0 1 2 1 2 1 0 2 1 1 1 2 1 2 2 1 2 1 2 0 1 1 1 0 1 1 0 1 2 1 1 1\n",
      " 2 1 2 0 2 2 1 1 1 0 0 2 2 0 1 1 1 1 2 1 0 1 2 2 2 0 0 0 1 0 1 1 2 2 1 1 1\n",
      " 1 1 2 0 2 1 2 1 2 1 2 0 0 1 2 1 0 0 1 2 2 2 0 0 2 2 2 2 0 1 1 1 1 2 2 0 1\n",
      " 2 2 1 1 0 1 2]\n"
     ]
    }
   ],
   "source": [
    "print(pred)"
   ]
  },
  {
   "cell_type": "code",
   "execution_count": 57,
   "metadata": {},
   "outputs": [
    {
     "data": {
      "text/plain": [
       "2    499\n",
       "0    206\n",
       "1    190\n",
       "Name: cluster, dtype: int64"
      ]
     },
     "execution_count": 57,
     "metadata": {},
     "output_type": "execute_result"
    }
   ],
   "source": [
    "frame = pd.DataFrame(X_scaled)\n",
    "frame['cluster'] = pred\n",
    "frame['cluster'].value_counts()"
   ]
  },
  {
   "cell_type": "code",
   "execution_count": 58,
   "metadata": {},
   "outputs": [
    {
     "name": "stderr",
     "output_type": "stream",
     "text": [
      "C:\\Users\\Hp\\AppData\\Local\\Temp/ipykernel_54572/2418947831.py:2: SettingWithCopyWarning: \n",
      "A value is trying to be set on a copy of a slice from a DataFrame.\n",
      "Try using .loc[row_indexer,col_indexer] = value instead\n",
      "\n",
      "See the caveats in the documentation: https://pandas.pydata.org/pandas-docs/stable/user_guide/indexing.html#returning-a-view-versus-a-copy\n",
      "  X[\"cluster\"] = labels\n"
     ]
    }
   ],
   "source": [
    "labels = Kmean.labels_\n",
    "X[\"cluster\"] = labels"
   ]
  },
  {
   "cell_type": "code",
   "execution_count": 59,
   "metadata": {
    "scrolled": true
   },
   "outputs": [
    {
     "data": {
      "text/html": [
       "<div>\n",
       "<style scoped>\n",
       "    .dataframe tbody tr th:only-of-type {\n",
       "        vertical-align: middle;\n",
       "    }\n",
       "\n",
       "    .dataframe tbody tr th {\n",
       "        vertical-align: top;\n",
       "    }\n",
       "\n",
       "    .dataframe thead th {\n",
       "        text-align: right;\n",
       "    }\n",
       "</style>\n",
       "<table border=\"1\" class=\"dataframe\">\n",
       "  <thead>\n",
       "    <tr style=\"text-align: right;\">\n",
       "      <th></th>\n",
       "      <th>depth</th>\n",
       "      <th>mag</th>\n",
       "      <th>cluster</th>\n",
       "    </tr>\n",
       "  </thead>\n",
       "  <tbody>\n",
       "    <tr>\n",
       "      <th>0</th>\n",
       "      <td>10.0000</td>\n",
       "      <td>5.20</td>\n",
       "      <td>2</td>\n",
       "    </tr>\n",
       "    <tr>\n",
       "      <th>1</th>\n",
       "      <td>17.3500</td>\n",
       "      <td>5.40</td>\n",
       "      <td>1</td>\n",
       "    </tr>\n",
       "    <tr>\n",
       "      <th>2</th>\n",
       "      <td>40.3000</td>\n",
       "      <td>5.10</td>\n",
       "      <td>2</td>\n",
       "    </tr>\n",
       "    <tr>\n",
       "      <th>3</th>\n",
       "      <td>56.2000</td>\n",
       "      <td>5.20</td>\n",
       "      <td>0</td>\n",
       "    </tr>\n",
       "    <tr>\n",
       "      <th>4</th>\n",
       "      <td>61.4900</td>\n",
       "      <td>5.20</td>\n",
       "      <td>0</td>\n",
       "    </tr>\n",
       "    <tr>\n",
       "      <th>...</th>\n",
       "      <td>...</td>\n",
       "      <td>...</td>\n",
       "      <td>...</td>\n",
       "    </tr>\n",
       "    <tr>\n",
       "      <th>890</th>\n",
       "      <td>51.0000</td>\n",
       "      <td>5.50</td>\n",
       "      <td>1</td>\n",
       "    </tr>\n",
       "    <tr>\n",
       "      <th>891</th>\n",
       "      <td>51.0000</td>\n",
       "      <td>5.75</td>\n",
       "      <td>1</td>\n",
       "    </tr>\n",
       "    <tr>\n",
       "      <th>892</th>\n",
       "      <td>50.0000</td>\n",
       "      <td>5.20</td>\n",
       "      <td>0</td>\n",
       "    </tr>\n",
       "    <tr>\n",
       "      <th>893</th>\n",
       "      <td>67.4375</td>\n",
       "      <td>5.70</td>\n",
       "      <td>1</td>\n",
       "    </tr>\n",
       "    <tr>\n",
       "      <th>894</th>\n",
       "      <td>33.0000</td>\n",
       "      <td>5.00</td>\n",
       "      <td>2</td>\n",
       "    </tr>\n",
       "  </tbody>\n",
       "</table>\n",
       "<p>895 rows × 3 columns</p>\n",
       "</div>"
      ],
      "text/plain": [
       "       depth   mag  cluster\n",
       "0    10.0000  5.20        2\n",
       "1    17.3500  5.40        1\n",
       "2    40.3000  5.10        2\n",
       "3    56.2000  5.20        0\n",
       "4    61.4900  5.20        0\n",
       "..       ...   ...      ...\n",
       "890  51.0000  5.50        1\n",
       "891  51.0000  5.75        1\n",
       "892  50.0000  5.20        0\n",
       "893  67.4375  5.70        1\n",
       "894  33.0000  5.00        2\n",
       "\n",
       "[895 rows x 3 columns]"
      ]
     },
     "execution_count": 59,
     "metadata": {},
     "output_type": "execute_result"
    }
   ],
   "source": [
    "X"
   ]
  },
  {
   "cell_type": "code",
   "execution_count": 60,
   "metadata": {},
   "outputs": [
    {
     "data": {
      "text/html": [
       "<div>\n",
       "<style scoped>\n",
       "    .dataframe tbody tr th:only-of-type {\n",
       "        vertical-align: middle;\n",
       "    }\n",
       "\n",
       "    .dataframe tbody tr th {\n",
       "        vertical-align: top;\n",
       "    }\n",
       "\n",
       "    .dataframe thead th {\n",
       "        text-align: right;\n",
       "    }\n",
       "</style>\n",
       "<table border=\"1\" class=\"dataframe\">\n",
       "  <thead>\n",
       "    <tr style=\"text-align: right;\">\n",
       "      <th></th>\n",
       "      <th>time</th>\n",
       "      <th>latitude</th>\n",
       "      <th>longitude</th>\n",
       "      <th>depth</th>\n",
       "      <th>mag</th>\n",
       "      <th>magType</th>\n",
       "      <th>rms</th>\n",
       "      <th>net</th>\n",
       "      <th>id</th>\n",
       "      <th>updated</th>\n",
       "      <th>place</th>\n",
       "      <th>type</th>\n",
       "      <th>status</th>\n",
       "      <th>locationSource</th>\n",
       "      <th>magSource</th>\n",
       "    </tr>\n",
       "  </thead>\n",
       "  <tbody>\n",
       "    <tr>\n",
       "      <th>1</th>\n",
       "      <td>2021-07-10 02:41:09.501000+00:00</td>\n",
       "      <td>1.8228</td>\n",
       "      <td>96.9785</td>\n",
       "      <td>17.3500</td>\n",
       "      <td>5.40</td>\n",
       "      <td>mb</td>\n",
       "      <td>0.87</td>\n",
       "      <td>us</td>\n",
       "      <td>us6000etz0</td>\n",
       "      <td>2021-09-17T22:49:15.040Z</td>\n",
       "      <td>98 km SE of Sinabang, Indonesia</td>\n",
       "      <td>earthquake</td>\n",
       "      <td>reviewed</td>\n",
       "      <td>us</td>\n",
       "      <td>us</td>\n",
       "    </tr>\n",
       "    <tr>\n",
       "      <th>44</th>\n",
       "      <td>2019-02-02 11:01:38.730000+00:00</td>\n",
       "      <td>-2.7308</td>\n",
       "      <td>100.3019</td>\n",
       "      <td>10.0000</td>\n",
       "      <td>5.75</td>\n",
       "      <td>mb</td>\n",
       "      <td>0.67</td>\n",
       "      <td>us</td>\n",
       "      <td>us2000jcdi</td>\n",
       "      <td>2020-07-10T17:24:37.219Z</td>\n",
       "      <td>142 km WSW of Sungai Penuh, Indonesia</td>\n",
       "      <td>earthquake</td>\n",
       "      <td>reviewed</td>\n",
       "      <td>us</td>\n",
       "      <td>us</td>\n",
       "    </tr>\n",
       "    <tr>\n",
       "      <th>55</th>\n",
       "      <td>2018-09-06 00:13:50.110000+00:00</td>\n",
       "      <td>0.8210</td>\n",
       "      <td>96.8947</td>\n",
       "      <td>10.0000</td>\n",
       "      <td>5.40</td>\n",
       "      <td>mb</td>\n",
       "      <td>0.60</td>\n",
       "      <td>us</td>\n",
       "      <td>us2000h922</td>\n",
       "      <td>2018-11-14T17:40:14.040Z</td>\n",
       "      <td>190 km SSW of Singkil, Indonesia</td>\n",
       "      <td>earthquake</td>\n",
       "      <td>reviewed</td>\n",
       "      <td>us</td>\n",
       "      <td>us</td>\n",
       "    </tr>\n",
       "    <tr>\n",
       "      <th>61</th>\n",
       "      <td>2018-06-13 02:07:57.240000+00:00</td>\n",
       "      <td>-1.9281</td>\n",
       "      <td>98.6717</td>\n",
       "      <td>10.0000</td>\n",
       "      <td>5.40</td>\n",
       "      <td>mb</td>\n",
       "      <td>0.75</td>\n",
       "      <td>us</td>\n",
       "      <td>us1000epie</td>\n",
       "      <td>2018-09-07T17:47:01.040Z</td>\n",
       "      <td>216 km WSW of Padang, Indonesia</td>\n",
       "      <td>earthquake</td>\n",
       "      <td>reviewed</td>\n",
       "      <td>us</td>\n",
       "      <td>us</td>\n",
       "    </tr>\n",
       "    <tr>\n",
       "      <th>62</th>\n",
       "      <td>2018-06-12 23:46:11.940000+00:00</td>\n",
       "      <td>-1.9469</td>\n",
       "      <td>98.6868</td>\n",
       "      <td>10.0000</td>\n",
       "      <td>5.60</td>\n",
       "      <td>mb</td>\n",
       "      <td>0.92</td>\n",
       "      <td>us</td>\n",
       "      <td>us1000epg0</td>\n",
       "      <td>2018-09-07T17:47:01.040Z</td>\n",
       "      <td>215 km WSW of Padang, Indonesia</td>\n",
       "      <td>earthquake</td>\n",
       "      <td>reviewed</td>\n",
       "      <td>us</td>\n",
       "      <td>us</td>\n",
       "    </tr>\n",
       "    <tr>\n",
       "      <th>...</th>\n",
       "      <td>...</td>\n",
       "      <td>...</td>\n",
       "      <td>...</td>\n",
       "      <td>...</td>\n",
       "      <td>...</td>\n",
       "      <td>...</td>\n",
       "      <td>...</td>\n",
       "      <td>...</td>\n",
       "      <td>...</td>\n",
       "      <td>...</td>\n",
       "      <td>...</td>\n",
       "      <td>...</td>\n",
       "      <td>...</td>\n",
       "      <td>...</td>\n",
       "      <td>...</td>\n",
       "    </tr>\n",
       "    <tr>\n",
       "      <th>883</th>\n",
       "      <td>1974-02-11 01:40:46.200000+00:00</td>\n",
       "      <td>-6.1010</td>\n",
       "      <td>104.1080</td>\n",
       "      <td>33.0000</td>\n",
       "      <td>5.50</td>\n",
       "      <td>mb</td>\n",
       "      <td>0.93</td>\n",
       "      <td>us</td>\n",
       "      <td>usp0000594</td>\n",
       "      <td>2015-05-13T18:53:09.000Z</td>\n",
       "      <td>147 km WSW of Bandar Lampung, Indonesia</td>\n",
       "      <td>earthquake</td>\n",
       "      <td>reviewed</td>\n",
       "      <td>us</td>\n",
       "      <td>us</td>\n",
       "    </tr>\n",
       "    <tr>\n",
       "      <th>887</th>\n",
       "      <td>1973-12-08 06:10:03.500000+00:00</td>\n",
       "      <td>-0.2450</td>\n",
       "      <td>98.3990</td>\n",
       "      <td>33.0000</td>\n",
       "      <td>5.70</td>\n",
       "      <td>mb</td>\n",
       "      <td>0.93</td>\n",
       "      <td>us</td>\n",
       "      <td>usp00004fs</td>\n",
       "      <td>2020-07-10T19:58:17.214Z</td>\n",
       "      <td>195 km WNW of Pariaman, Indonesia (2)</td>\n",
       "      <td>earthquake</td>\n",
       "      <td>reviewed</td>\n",
       "      <td>us</td>\n",
       "      <td>us</td>\n",
       "    </tr>\n",
       "    <tr>\n",
       "      <th>890</th>\n",
       "      <td>1973-05-12 05:46:48.700000+00:00</td>\n",
       "      <td>-3.2430</td>\n",
       "      <td>101.2400</td>\n",
       "      <td>51.0000</td>\n",
       "      <td>5.50</td>\n",
       "      <td>mb</td>\n",
       "      <td>0.93</td>\n",
       "      <td>us</td>\n",
       "      <td>usp00001st</td>\n",
       "      <td>2020-07-10T19:34:25.049Z</td>\n",
       "      <td>129 km WNW of Bengkulu, Indonesia</td>\n",
       "      <td>earthquake</td>\n",
       "      <td>reviewed</td>\n",
       "      <td>us</td>\n",
       "      <td>us</td>\n",
       "    </tr>\n",
       "    <tr>\n",
       "      <th>891</th>\n",
       "      <td>1973-05-04 23:56:06.100000+00:00</td>\n",
       "      <td>-1.4680</td>\n",
       "      <td>99.8510</td>\n",
       "      <td>51.0000</td>\n",
       "      <td>5.75</td>\n",
       "      <td>mb</td>\n",
       "      <td>0.93</td>\n",
       "      <td>us</td>\n",
       "      <td>usp00001q8</td>\n",
       "      <td>2015-05-13T18:53:08.000Z</td>\n",
       "      <td>80 km SW of Padang, Indonesia</td>\n",
       "      <td>earthquake</td>\n",
       "      <td>reviewed</td>\n",
       "      <td>us</td>\n",
       "      <td>us</td>\n",
       "    </tr>\n",
       "    <tr>\n",
       "      <th>893</th>\n",
       "      <td>1973-03-17 15:40:48+00:00</td>\n",
       "      <td>-5.1930</td>\n",
       "      <td>103.2350</td>\n",
       "      <td>67.4375</td>\n",
       "      <td>5.70</td>\n",
       "      <td>mb</td>\n",
       "      <td>0.93</td>\n",
       "      <td>us</td>\n",
       "      <td>usp00000z9</td>\n",
       "      <td>2020-07-10T19:29:23.961Z</td>\n",
       "      <td>129 km S of Pagar Alam, Indonesia</td>\n",
       "      <td>earthquake</td>\n",
       "      <td>reviewed</td>\n",
       "      <td>us</td>\n",
       "      <td>us</td>\n",
       "    </tr>\n",
       "  </tbody>\n",
       "</table>\n",
       "<p>190 rows × 15 columns</p>\n",
       "</div>"
      ],
      "text/plain": [
       "                                time  latitude  longitude    depth   mag  \\\n",
       "1   2021-07-10 02:41:09.501000+00:00    1.8228    96.9785  17.3500  5.40   \n",
       "44  2019-02-02 11:01:38.730000+00:00   -2.7308   100.3019  10.0000  5.75   \n",
       "55  2018-09-06 00:13:50.110000+00:00    0.8210    96.8947  10.0000  5.40   \n",
       "61  2018-06-13 02:07:57.240000+00:00   -1.9281    98.6717  10.0000  5.40   \n",
       "62  2018-06-12 23:46:11.940000+00:00   -1.9469    98.6868  10.0000  5.60   \n",
       "..                               ...       ...        ...      ...   ...   \n",
       "883 1974-02-11 01:40:46.200000+00:00   -6.1010   104.1080  33.0000  5.50   \n",
       "887 1973-12-08 06:10:03.500000+00:00   -0.2450    98.3990  33.0000  5.70   \n",
       "890 1973-05-12 05:46:48.700000+00:00   -3.2430   101.2400  51.0000  5.50   \n",
       "891 1973-05-04 23:56:06.100000+00:00   -1.4680    99.8510  51.0000  5.75   \n",
       "893        1973-03-17 15:40:48+00:00   -5.1930   103.2350  67.4375  5.70   \n",
       "\n",
       "    magType   rms net          id                   updated  \\\n",
       "1        mb  0.87  us  us6000etz0  2021-09-17T22:49:15.040Z   \n",
       "44       mb  0.67  us  us2000jcdi  2020-07-10T17:24:37.219Z   \n",
       "55       mb  0.60  us  us2000h922  2018-11-14T17:40:14.040Z   \n",
       "61       mb  0.75  us  us1000epie  2018-09-07T17:47:01.040Z   \n",
       "62       mb  0.92  us  us1000epg0  2018-09-07T17:47:01.040Z   \n",
       "..      ...   ...  ..         ...                       ...   \n",
       "883      mb  0.93  us  usp0000594  2015-05-13T18:53:09.000Z   \n",
       "887      mb  0.93  us  usp00004fs  2020-07-10T19:58:17.214Z   \n",
       "890      mb  0.93  us  usp00001st  2020-07-10T19:34:25.049Z   \n",
       "891      mb  0.93  us  usp00001q8  2015-05-13T18:53:08.000Z   \n",
       "893      mb  0.93  us  usp00000z9  2020-07-10T19:29:23.961Z   \n",
       "\n",
       "                                       place        type    status  \\\n",
       "1            98 km SE of Sinabang, Indonesia  earthquake  reviewed   \n",
       "44     142 km WSW of Sungai Penuh, Indonesia  earthquake  reviewed   \n",
       "55          190 km SSW of Singkil, Indonesia  earthquake  reviewed   \n",
       "61           216 km WSW of Padang, Indonesia  earthquake  reviewed   \n",
       "62           215 km WSW of Padang, Indonesia  earthquake  reviewed   \n",
       "..                                       ...         ...       ...   \n",
       "883  147 km WSW of Bandar Lampung, Indonesia  earthquake  reviewed   \n",
       "887    195 km WNW of Pariaman, Indonesia (2)  earthquake  reviewed   \n",
       "890        129 km WNW of Bengkulu, Indonesia  earthquake  reviewed   \n",
       "891            80 km SW of Padang, Indonesia  earthquake  reviewed   \n",
       "893        129 km S of Pagar Alam, Indonesia  earthquake  reviewed   \n",
       "\n",
       "    locationSource magSource  \n",
       "1               us        us  \n",
       "44              us        us  \n",
       "55              us        us  \n",
       "61              us        us  \n",
       "62              us        us  \n",
       "..             ...       ...  \n",
       "883             us        us  \n",
       "887             us        us  \n",
       "890             us        us  \n",
       "891             us        us  \n",
       "893             us        us  \n",
       "\n",
       "[190 rows x 15 columns]"
      ]
     },
     "execution_count": 60,
     "metadata": {},
     "output_type": "execute_result"
    }
   ],
   "source": [
    "df2[X[\"cluster\"]==1]"
   ]
  },
  {
   "cell_type": "code",
   "execution_count": 61,
   "metadata": {},
   "outputs": [
    {
     "data": {
      "image/png": "[encoded data removed]",
      "text/plain": [
       "<Figure size 432x288 with 2 Axes>"
      ]
     },
     "metadata": {
      "needs_background": "light"
     },
     "output_type": "display_data"
    }
   ],
   "source": [
    "output = plt.scatter(X_scaled[:,0], X_scaled[:,1], s = 100, c = X.cluster, marker = 'o', alpha = 1, )\n",
    "centers = Kmean.cluster_centers_\n",
    "plt.scatter(centers[:,0], centers[:,1], c='red', s=200, alpha=1 , marker='o');\n",
    "plt.title(\"Hasil Klustering K-Means\")\n",
    "plt.colorbar(output)\n",
    "plt.show()"
   ]
  },
  {
   "cell_type": "markdown",
   "metadata": {},
   "source": [
    "### Melihat nilai rata-rata pada kolom berdasarkan klaster"
   ]
  },
  {
   "cell_type": "code",
   "execution_count": 62,
   "metadata": {},
   "outputs": [
    {
     "data": {
      "text/html": [
       "<div>\n",
       "<style scoped>\n",
       "    .dataframe tbody tr th:only-of-type {\n",
       "        vertical-align: middle;\n",
       "    }\n",
       "\n",
       "    .dataframe tbody tr th {\n",
       "        vertical-align: top;\n",
       "    }\n",
       "\n",
       "    .dataframe thead tr th {\n",
       "        text-align: left;\n",
       "    }\n",
       "</style>\n",
       "<table border=\"1\" class=\"dataframe\">\n",
       "  <thead>\n",
       "    <tr>\n",
       "      <th></th>\n",
       "      <th>depth</th>\n",
       "      <th>mag</th>\n",
       "    </tr>\n",
       "  </thead>\n",
       "  <tbody>\n",
       "    <tr>\n",
       "      <th>0</th>\n",
       "      <td>1.392915</td>\n",
       "      <td>-0.247450</td>\n",
       "    </tr>\n",
       "    <tr>\n",
       "      <th>1</th>\n",
       "      <td>-0.125727</td>\n",
       "      <td>1.544132</td>\n",
       "    </tr>\n",
       "    <tr>\n",
       "      <th>2</th>\n",
       "      <td>-0.527159</td>\n",
       "      <td>-0.485792</td>\n",
       "    </tr>\n",
       "  </tbody>\n",
       "</table>\n",
       "</div>"
      ],
      "text/plain": [
       "      depth       mag\n",
       "0  1.392915 -0.247450\n",
       "1 -0.125727  1.544132\n",
       "2 -0.527159 -0.485792"
      ]
     },
     "execution_count": 62,
     "metadata": {},
     "output_type": "execute_result"
    }
   ],
   "source": [
    "cluster_centers = pd.DataFrame(data = Kmean.cluster_centers_, columns = [scaled_df.columns])\n",
    "cluster_centers"
   ]
  },
  {
   "cell_type": "code",
   "execution_count": 63,
   "metadata": {},
   "outputs": [
    {
     "data": {
      "text/html": [
       "<div>\n",
       "<style scoped>\n",
       "    .dataframe tbody tr th:only-of-type {\n",
       "        vertical-align: middle;\n",
       "    }\n",
       "\n",
       "    .dataframe tbody tr th {\n",
       "        vertical-align: top;\n",
       "    }\n",
       "\n",
       "    .dataframe thead tr th {\n",
       "        text-align: left;\n",
       "    }\n",
       "</style>\n",
       "<table border=\"1\" class=\"dataframe\">\n",
       "  <thead>\n",
       "    <tr>\n",
       "      <th></th>\n",
       "      <th>depth</th>\n",
       "      <th>mag</th>\n",
       "    </tr>\n",
       "  </thead>\n",
       "  <tbody>\n",
       "    <tr>\n",
       "      <th>0</th>\n",
       "      <td>56.127549</td>\n",
       "      <td>5.125243</td>\n",
       "    </tr>\n",
       "    <tr>\n",
       "      <th>1</th>\n",
       "      <td>34.812118</td>\n",
       "      <td>5.473158</td>\n",
       "    </tr>\n",
       "    <tr>\n",
       "      <th>2</th>\n",
       "      <td>29.177675</td>\n",
       "      <td>5.078958</td>\n",
       "    </tr>\n",
       "  </tbody>\n",
       "</table>\n",
       "</div>"
      ],
      "text/plain": [
       "       depth       mag\n",
       "0  56.127549  5.125243\n",
       "1  34.812118  5.473158\n",
       "2  29.177675  5.078958"
      ]
     },
     "execution_count": 63,
     "metadata": {},
     "output_type": "execute_result"
    }
   ],
   "source": [
    "# Invers data yang telah distandarisasi untuk lebih memahami karaktersitik klaster\n",
    "cluster_centers_inversed = scaler.inverse_transform(cluster_centers)\n",
    "cluster_centers_inversed = pd.DataFrame(data = cluster_centers_inversed, columns = [scaled_df.columns])\n",
    "cluster_centers_inversed"
   ]
  },
  {
   "cell_type": "code",
   "execution_count": 64,
   "metadata": {},
   "outputs": [
    {
     "data": {
      "image/png": "[encoded data removed]",
      "text/plain": [
       "<Figure size 648x216 with 3 Axes>"
      ]
     },
     "metadata": {
      "needs_background": "light"
     },
     "output_type": "display_data"
    },
    {
     "data": {
      "image/png": "[encoded data removed]",
      "text/plain": [
       "<Figure size 648x216 with 3 Axes>"
      ]
     },
     "metadata": {
      "needs_background": "light"
     },
     "output_type": "display_data"
    },
    {
     "data": {
      "image/png": "[encoded data removed]",
      "text/plain": [
       "<Figure size 648x216 with 3 Axes>"
      ]
     },
     "metadata": {
      "needs_background": "light"
     },
     "output_type": "display_data"
    }
   ],
   "source": [
    "# Interpretasi klaster yang terbentuk\n",
    "for c in X:\n",
    "    grid= sns.FacetGrid(X, col='cluster')\n",
    "    grid.map(plt.hist, c)"
   ]
  },
  {
   "cell_type": "markdown",
   "metadata": {},
   "source": [
    "**Cluster 0 - Kedalaman gempa dalam, magnitudo sedang diantara cluster 1 dan 2**\n",
    "\n",
    "Kedalaman gempa di atas 40, magnitudo di bawah 5.4\n",
    "\n",
    "**Cluster 1 Kedalaman gempa sedang, magnitudo paling besar**\n",
    "\n",
    "Kedalaman gempa diantara 10-70, magnitudo diantara 5.3-5.7\n",
    "\n",
    "**Cluster 2 Kedalaman gempa dangkal, magnitudo paling kecil**\n",
    "\n",
    "Kedalaman gempa di bawah 40, magnitudo di bawah 5.3"
   ]
  },
  {
   "cell_type": "markdown",
   "metadata": {},
   "source": [
    "### SOM"
   ]
  },
  {
   "cell_type": "markdown",
   "metadata": {},
   "source": [
    "Metode kedua menggunakan metode SOM. Metode ini digunakan sebagai pembanding metode K-Means"
   ]
  },
  {
   "cell_type": "code",
   "execution_count": 65,
   "metadata": {},
   "outputs": [],
   "source": [
    "from minisom import MiniSom"
   ]
  },
  {
   "cell_type": "code",
   "execution_count": 66,
   "metadata": {},
   "outputs": [
    {
     "data": {
      "text/html": [
       "<div>\n",
       "<style scoped>\n",
       "    .dataframe tbody tr th:only-of-type {\n",
       "        vertical-align: middle;\n",
       "    }\n",
       "\n",
       "    .dataframe tbody tr th {\n",
       "        vertical-align: top;\n",
       "    }\n",
       "\n",
       "    .dataframe thead th {\n",
       "        text-align: right;\n",
       "    }\n",
       "</style>\n",
       "<table border=\"1\" class=\"dataframe\">\n",
       "  <thead>\n",
       "    <tr style=\"text-align: right;\">\n",
       "      <th></th>\n",
       "      <th>depth</th>\n",
       "      <th>mag</th>\n",
       "    </tr>\n",
       "  </thead>\n",
       "  <tbody>\n",
       "    <tr>\n",
       "      <th>0</th>\n",
       "      <td>10.00</td>\n",
       "      <td>5.2</td>\n",
       "    </tr>\n",
       "    <tr>\n",
       "      <th>1</th>\n",
       "      <td>17.35</td>\n",
       "      <td>5.4</td>\n",
       "    </tr>\n",
       "    <tr>\n",
       "      <th>2</th>\n",
       "      <td>40.30</td>\n",
       "      <td>5.1</td>\n",
       "    </tr>\n",
       "    <tr>\n",
       "      <th>3</th>\n",
       "      <td>56.20</td>\n",
       "      <td>5.2</td>\n",
       "    </tr>\n",
       "    <tr>\n",
       "      <th>4</th>\n",
       "      <td>61.49</td>\n",
       "      <td>5.2</td>\n",
       "    </tr>\n",
       "  </tbody>\n",
       "</table>\n",
       "</div>"
      ],
      "text/plain": [
       "   depth  mag\n",
       "0  10.00  5.2\n",
       "1  17.35  5.4\n",
       "2  40.30  5.1\n",
       "3  56.20  5.2\n",
       "4  61.49  5.2"
      ]
     },
     "execution_count": 66,
     "metadata": {},
     "output_type": "execute_result"
    }
   ],
   "source": [
    "X2 = df2.iloc[:,3:5]\n",
    "X2.head()"
   ]
  },
  {
   "cell_type": "code",
   "execution_count": 67,
   "metadata": {},
   "outputs": [
    {
     "name": "stdout",
     "output_type": "stream",
     "text": [
      "[[-1.89349455  0.1375112 ]\n",
      " [-1.36983541  1.16740678]\n",
      " [ 0.26526351 -0.37743659]\n",
      " ...\n",
      " [ 0.95635107  0.1375112 ]\n",
      " [ 2.19870565  2.71225015]\n",
      " [-0.25483331 -0.89238438]]\n"
     ]
    }
   ],
   "source": [
    "scaler2 = StandardScaler()\n",
    "X2_scaled = scaler2.fit_transform(X2)\n",
    "print(X2_scaled)"
   ]
  },
  {
   "cell_type": "code",
   "execution_count": 68,
   "metadata": {},
   "outputs": [
    {
     "name": "stdout",
     "output_type": "stream",
     "text": [
      " [ 330 / 500 ]  66% - 0:00:00 left  [ 500 / 500 ] 100% - 0:00:00 left \n",
      " quantization error: 0.8720909815075271\n"
     ]
    }
   ],
   "source": [
    "# Initialization and training\n",
    "som_shape = (1, 3)\n",
    "som = MiniSom(som_shape[0], som_shape[1], X2.shape[1], sigma=.5, learning_rate=.5,\n",
    "              neighborhood_function='gaussian', random_seed=10)\n",
    "\n",
    "som.train_batch(X2_scaled, 500, verbose=True)"
   ]
  },
  {
   "cell_type": "code",
   "execution_count": 69,
   "metadata": {},
   "outputs": [],
   "source": [
    "# each neuron represents a cluster\n",
    "winner_coordinates = np.array([som.winner(x) for x in X2_scaled]).T\n",
    "# with np.ravel_multi_index we convert the bidimensional\n",
    "# coordinates to a monodimensional index\n",
    "cluster_index = np.ravel_multi_index(winner_coordinates, som_shape)"
   ]
  },
  {
   "cell_type": "code",
   "execution_count": 70,
   "metadata": {},
   "outputs": [
    {
     "data": {
      "image/png": "[encoded data removed]",
      "text/plain": [
       "<Figure size 432x288 with 1 Axes>"
      ]
     },
     "metadata": {
      "needs_background": "light"
     },
     "output_type": "display_data"
    }
   ],
   "source": [
    "import matplotlib.pyplot as plt\n",
    "%matplotlib inline\n",
    "\n",
    "# plotting the clusters using the first 2 dimentions of the data\n",
    "for c in np.unique(cluster_index):\n",
    "    plt.scatter(X2_scaled[cluster_index == c, 0],\n",
    "                X2_scaled[cluster_index == c, 1], label='cluster='+str(c), alpha=.7)\n",
    "\n",
    "# plotting centroids\n",
    "for centroid in som.get_weights():\n",
    "    plt.scatter(centroid[:, 0], centroid[:, 1], marker='x', \n",
    "                s=6, linewidths=15, color='k', label='centroid')\n",
    "plt.legend();"
   ]
  },
  {
   "cell_type": "markdown",
   "metadata": {},
   "source": [
    "## Model Evaluation"
   ]
  },
  {
   "cell_type": "markdown",
   "metadata": {},
   "source": [
    "Pada bagian ini, dilakukan evaluasi model yang harus menunjukkan\n",
    "bagaimana performa model berdasarkan metrics yang dipilih."
   ]
  },
  {
   "cell_type": "code",
   "execution_count": 71,
   "metadata": {},
   "outputs": [],
   "source": [
    "ss_k1 = silhouette_score(X_scaled, pred)\n",
    "ch_k1 = calinski_harabasz_score(X_scaled, pred)\n",
    "db_k1 = davies_bouldin_score(X_scaled, pred)"
   ]
  },
  {
   "cell_type": "code",
   "execution_count": 72,
   "metadata": {},
   "outputs": [
    {
     "data": {
      "text/html": [
       "<div>\n",
       "<style scoped>\n",
       "    .dataframe tbody tr th:only-of-type {\n",
       "        vertical-align: middle;\n",
       "    }\n",
       "\n",
       "    .dataframe tbody tr th {\n",
       "        vertical-align: top;\n",
       "    }\n",
       "\n",
       "    .dataframe thead th {\n",
       "        text-align: right;\n",
       "    }\n",
       "</style>\n",
       "<table border=\"1\" class=\"dataframe\">\n",
       "  <thead>\n",
       "    <tr style=\"text-align: right;\">\n",
       "      <th></th>\n",
       "      <th>KMeans</th>\n",
       "    </tr>\n",
       "  </thead>\n",
       "  <tbody>\n",
       "    <tr>\n",
       "      <th>Silhouette Score</th>\n",
       "      <td>0.458970</td>\n",
       "    </tr>\n",
       "    <tr>\n",
       "      <th>Calinski Harabasz</th>\n",
       "      <td>754.073944</td>\n",
       "    </tr>\n",
       "    <tr>\n",
       "      <th>Davies-Bouldin</th>\n",
       "      <td>0.788047</td>\n",
       "    </tr>\n",
       "  </tbody>\n",
       "</table>\n",
       "</div>"
      ],
      "text/plain": [
       "                       KMeans\n",
       "Silhouette Score     0.458970\n",
       "Calinski Harabasz  754.073944\n",
       "Davies-Bouldin       0.788047"
      ]
     },
     "execution_count": 72,
     "metadata": {},
     "output_type": "execute_result"
    }
   ],
   "source": [
    "model_selection = pd.DataFrame({'KMeans': [ss_k1, ch_k1, db_k1]}, \n",
    "                               index = ['Silhouette Score', 'Calinski Harabasz', 'Davies-Bouldin'])\n",
    "model_selection"
   ]
  },
  {
   "cell_type": "markdown",
   "metadata": {},
   "source": [
    "## Conclusions"
   ]
  },
  {
   "cell_type": "markdown",
   "metadata": {},
   "source": [
    "Dari analisis yang telah dilakukan, diperoleh kesimpulan sebagai berikut:\n"
   ]
  },
  {
   "cell_type": "markdown",
   "metadata": {},
   "source": [
    "Dari hasil diatas, dapat ditarik kesimpulan bahwa \n",
    "1. Project ini menggunakan penerapan algoritma Unsupervised Learning, yaitu Clustering. Metode Clustering yang akan digunakan yaitu K-Means Clustering dan Self-Organizing Maps dan menghasilkan nilai evaluasi sihoutee paling baik oleh k-means clustering.\n",
    "2. Data yang digunakan dalam analisis klaster ini adalah data gempa bumi di Pulau Sumatera dari tahun 1973-2021 sebanyak 895 data yang terdiri dari 22 atribut. \n",
    "3. Atribut yang digunakan adalah kedalaman gempa dan magnitudo.\n",
    "4. Menghasilkan 3 klaster yaitu:\n",
    "- Cluster 0 Kedalaman gempa dalam, magnitudo sedang diantara cluster 1 dan 2\n",
    "- Cluster 1 Kedalaman gempa sedang, magnitudo paling besar\n",
    "- Cluster 2 Kedalaman gempa dangkal, magnitudo paling kecil"
   ]
  },
  {
   "cell_type": "code",
   "execution_count": 73,
   "metadata": {},
   "outputs": [],
   "source": [
    "pickle.dump(Kmean, open('modelfp4.pkl','wb'))"
   ]
  },
  {
   "cell_type": "code",
   "execution_count": 74,
   "metadata": {},
   "outputs": [],
   "source": [
    "with open('scaler.pkl', 'wb') as file:\n",
    "    pickle.dump(scaler, file)"
   ]
  },
  {
   "cell_type": "markdown",
   "metadata": {},
   "source": [
    "with open('scaler4.pkl', 'wb') as file:\n",
    "    pickle.dump(scaler, file)"
   ]
  }
 ],
 "metadata": {
  "kernelspec": {
   "display_name": "Python 3 (ipykernel)",
   "language": "python",
   "name": "python3"
  },
  "language_info": {
   "codemirror_mode": {
    "name": "ipython",
    "version": 3
   },
   "file_extension": ".py",
   "mimetype": "text/x-python",
   "name": "python",
   "nbconvert_exporter": "python",
   "pygments_lexer": "ipython3",
   "version": "3.9.7"
  },
  "toc": {
   "base_numbering": 1,
   "nav_menu": {},
   "number_sections": true,
   "sideBar": true,
   "skip_h1_title": true,
   "title_cell": "Table of Contents",
   "title_sidebar": "Contents",
   "toc_cell": false,
   "toc_position": {
    "height": "701.778px",
    "left": "148px",
    "top": "180px",
    "width": "326.75px"
   },
   "toc_section_display": true,
   "toc_window_display": false
  }
 },
 "nbformat": 4,
 "nbformat_minor": 2
}
